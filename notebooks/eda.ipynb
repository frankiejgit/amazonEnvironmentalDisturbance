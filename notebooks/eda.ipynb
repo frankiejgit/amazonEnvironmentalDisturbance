{
 "cells": [
  {
   "cell_type": "markdown",
   "metadata": {},
   "source": [
    "# Exploratory Data Analysis"
   ]
  },
  {
   "cell_type": "code",
   "execution_count": 1,
   "metadata": {},
   "outputs": [],
   "source": [
    "# Load libraries\n",
    "import pandas as pd\n",
    "import geopandas as gpd\n",
    "import plotly.express as px"
   ]
  },
  {
   "cell_type": "code",
   "execution_count": 2,
   "metadata": {},
   "outputs": [],
   "source": [
    "# Load data\n",
    "project_path = \"../data/all_projects.csv\"\n",
    "coords_path = \"../data/project_coords.csv\"\n",
    "\n",
    "df = pd.read_csv(project_path)\n",
    "coords = pd.read_csv(coords_path)"
   ]
  },
  {
   "cell_type": "markdown",
   "metadata": {},
   "source": [
    "## I. Initial data exploration"
   ]
  },
  {
   "cell_type": "code",
   "execution_count": 11,
   "metadata": {},
   "outputs": [
    {
     "data": {
      "application/vnd.plotly.v1+json": {
       "config": {
        "plotlyServerURL": "https://plot.ly"
       },
       "data": [
        {
         "alignmentgroup": "True",
         "hovertemplate": "sector_type=hydropower<br>country=%{x}<br>count=%{y}<extra></extra>",
         "legendgroup": "hydropower",
         "marker": {
          "color": "#636efa",
          "pattern": {
           "shape": ""
          }
         },
         "name": "hydropower",
         "offsetgroup": "hydropower",
         "orientation": "v",
         "showlegend": true,
         "textposition": "auto",
         "type": "bar",
         "x": [
          "bolivia",
          "bolivia",
          "bolivia",
          "bolivia",
          "bolivia",
          "bolivia",
          "bolivia",
          "bolivia",
          "bolivia",
          "bolivia",
          "bolivia",
          "brazil",
          "peru",
          "brazil",
          "brazil",
          "brazil",
          "brazil",
          "brazil",
          "brazil",
          "brazil",
          "brazil",
          "brazil",
          "brazil",
          "brazil",
          "brazil",
          "brazil",
          "brazil",
          "brazil",
          "brazil",
          "brazil",
          "brazil",
          "brazil",
          "brazil",
          "brazil",
          "brazil",
          "brazil",
          "brazil",
          "brazil",
          "brazil",
          "peru",
          "brazil",
          "brazil",
          "brazil",
          "brazil",
          "peru",
          "bolivia",
          "peru",
          "peru",
          "peru",
          "brazil",
          "brazil",
          "colombia",
          "ecuador",
          "ecuador",
          "ecuador",
          "ecuador",
          "ecuador",
          "ecuador",
          "ecuador",
          "ecuador",
          "ecuador",
          "brazil",
          "peru",
          "brazil",
          "brazil",
          "peru",
          "peru",
          "brazil",
          "peru",
          "peru",
          "brazil",
          "peru",
          "peru",
          "peru",
          "peru",
          "peru",
          "bolivia",
          "peru",
          "peru",
          "peru",
          "peru",
          "peru",
          "peru",
          "peru",
          "peru",
          "peru",
          "brazil",
          "peru",
          "brazil",
          "brazil",
          "bolivia",
          "brazil",
          "peru",
          "brazil",
          "brazil",
          "suriname",
          "peru",
          "venezuela",
          "venezuela",
          "venezuela"
         ],
         "xaxis": "x",
         "y": [
          1,
          1,
          1,
          1,
          1,
          1,
          1,
          1,
          1,
          1,
          1,
          1,
          1,
          1,
          1,
          1,
          1,
          1,
          1,
          1,
          1,
          1,
          1,
          1,
          1,
          1,
          1,
          1,
          1,
          1,
          1,
          1,
          1,
          1,
          1,
          1,
          1,
          1,
          1,
          1,
          1,
          1,
          1,
          1,
          1,
          1,
          1,
          1,
          1,
          1,
          1,
          1,
          1,
          1,
          1,
          1,
          1,
          1,
          1,
          1,
          1,
          1,
          1,
          1,
          1,
          1,
          1,
          1,
          1,
          1,
          1,
          1,
          1,
          1,
          1,
          1,
          1,
          1,
          1,
          1,
          1,
          1,
          1,
          1,
          1,
          1,
          1,
          1,
          1,
          1,
          1,
          1,
          1,
          1,
          1,
          1,
          1,
          1,
          1,
          1
         ],
         "yaxis": "y"
        },
        {
         "alignmentgroup": "True",
         "hovertemplate": "sector_type=oil_gas<br>country=%{x}<br>count=%{y}<extra></extra>",
         "legendgroup": "oil_gas",
         "marker": {
          "color": "#EF553B",
          "pattern": {
           "shape": ""
          }
         },
         "name": "oil_gas",
         "offsetgroup": "oil_gas",
         "orientation": "v",
         "showlegend": true,
         "textposition": "auto",
         "type": "bar",
         "x": [
          "peru",
          "peru",
          "ecuador",
          "peru",
          "peru",
          "ecuador",
          "ecuador",
          "peru",
          "peru",
          "peru",
          "peru",
          "bolivia",
          "colombia",
          "bolivia",
          "colombia",
          "bolivia",
          "bolivia",
          "bolivia",
          "ecuador",
          "bolivia",
          "bolivia",
          "bolivia",
          "bolivia",
          "bolivia",
          "bolivia",
          "bolivia",
          "bolivia",
          "bolivia",
          "bolivia",
          "bolivia",
          "bolivia",
          "bolivia",
          "bolivia",
          "bolivia",
          "bolivia",
          "bolivia",
          "bolivia",
          "bolivia",
          "bolivia",
          "bolivia",
          "bolivia",
          "bolivia",
          "bolivia",
          "bolivia",
          "bolivia",
          "bolivia",
          "bolivia",
          "bolivia",
          "bolivia",
          "bolivia",
          "bolivia",
          "bolivia",
          "bolivia",
          "bolivia",
          "bolivia",
          "bolivia",
          "bolivia",
          "bolivia",
          "bolivia",
          "bolivia",
          "bolivia",
          "bolivia",
          "bolivia",
          "bolivia",
          "bolivia",
          "bolivia",
          "bolivia",
          "bolivia",
          "bolivia",
          "brazil",
          "brazil",
          "brazil",
          "brazil",
          "brazil",
          "brazil",
          "brazil",
          "brazil",
          "brazil",
          "brazil",
          "brazil",
          "brazil",
          "brazil",
          "brazil",
          "brazil",
          "brazil",
          "brazil",
          "colombia",
          "colombia",
          "colombia",
          "guyana",
          "peru",
          "ecuador",
          "ecuador",
          "ecuador",
          "ecuador",
          "colombia",
          "colombia",
          "colombia",
          "colombia",
          "colombia",
          "colombia",
          "colombia",
          "colombia",
          "colombia",
          "colombia",
          "colombia",
          "colombia",
          "colombia",
          "colombia",
          "colombia",
          "colombia",
          "colombia",
          "colombia",
          "colombia",
          "colombia",
          "colombia",
          "colombia",
          "colombia",
          "colombia",
          "colombia",
          "colombia",
          "colombia",
          "colombia",
          "ecuador",
          "ecuador",
          "ecuador",
          "peru",
          "ecuador",
          "ecuador",
          "colombia",
          "colombia",
          "colombia",
          "colombia",
          "colombia",
          "colombia",
          "colombia",
          "colombia",
          "colombia",
          "colombia",
          "colombia",
          "colombia",
          "colombia",
          "colombia",
          "ecuador",
          "ecuador",
          "ecuador",
          "ecuador",
          "peru",
          "peru",
          "ecuador",
          "ecuador",
          "peru",
          "ecuador",
          "colombia",
          "colombia",
          "colombia",
          "colombia",
          "colombia",
          "colombia",
          "colombia",
          "colombia",
          "colombia",
          "colombia",
          "colombia",
          "colombia",
          "colombia",
          "colombia",
          "colombia",
          "colombia",
          "colombia",
          "colombia",
          "colombia",
          "colombia",
          "colombia",
          "colombia",
          "colombia",
          "colombia",
          "colombia",
          "colombia",
          "colombia",
          "colombia",
          "ecuador",
          "ecuador",
          "ecuador",
          "ecuador",
          "ecuador",
          "ecuador",
          "ecuador",
          "ecuador",
          "ecuador",
          "ecuador",
          "ecuador",
          "ecuador",
          "ecuador",
          "ecuador",
          "ecuador",
          "ecuador",
          "ecuador",
          "ecuador",
          "ecuador",
          "ecuador",
          "ecuador",
          "ecuador",
          "ecuador",
          "ecuador",
          "ecuador",
          "ecuador",
          "ecuador",
          "ecuador",
          "ecuador",
          "ecuador",
          "peru",
          "venezuela",
          "peru",
          "peru",
          "peru",
          "peru",
          "peru",
          "peru",
          "brazil",
          "bolivia",
          "brazil",
          "brazil",
          "brazil",
          "brazil",
          "brazil",
          "brazil",
          "brazil",
          "brazil",
          "brazil",
          "brazil",
          "brazil",
          "brazil",
          "brazil",
          "ecuador",
          "ecuador",
          "ecuador",
          "peru",
          "peru",
          "bolivia",
          "bolivia",
          "bolivia",
          "bolivia",
          "peru",
          "peru",
          "ecuador",
          "peru",
          "peru",
          "ecuador",
          "peru",
          "peru",
          "bolivia",
          "colombia",
          "colombia",
          "bolivia",
          "bolivia",
          "bolivia",
          "bolivia",
          "bolivia",
          "bolivia",
          "colombia",
          "colombia",
          "bolivia",
          "bolivia",
          "bolivia",
          "bolivia",
          "bolivia",
          "bolivia",
          "bolivia",
          "bolivia",
          "colombia",
          "bolivia",
          "bolivia",
          "bolivia",
          "bolivia",
          "bolivia",
          "bolivia",
          "suriname",
          "suriname",
          "suriname",
          "ecuador",
          "ecuador",
          "peru",
          "suriname",
          "peru",
          "peru",
          "venezuela",
          "suriname",
          "peru",
          "ecuador",
          "peru",
          "peru",
          "peru",
          "colombia",
          "bolivia",
          "colombia",
          "colombia",
          "bolivia",
          "venezuela",
          "venezuela",
          "venezuela",
          "venezuela"
         ],
         "xaxis": "x",
         "y": [
          1,
          1,
          1,
          1,
          1,
          1,
          1,
          1,
          1,
          1,
          1,
          1,
          1,
          1,
          1,
          1,
          1,
          1,
          1,
          1,
          1,
          1,
          1,
          1,
          1,
          1,
          1,
          1,
          1,
          1,
          1,
          1,
          1,
          1,
          1,
          1,
          1,
          1,
          1,
          1,
          1,
          1,
          1,
          1,
          1,
          1,
          1,
          1,
          1,
          1,
          1,
          1,
          1,
          1,
          1,
          1,
          1,
          1,
          1,
          1,
          1,
          1,
          1,
          1,
          1,
          1,
          1,
          1,
          1,
          1,
          1,
          1,
          1,
          1,
          1,
          1,
          1,
          1,
          1,
          1,
          1,
          1,
          1,
          1,
          1,
          1,
          1,
          1,
          1,
          1,
          1,
          1,
          1,
          1,
          1,
          1,
          1,
          1,
          1,
          1,
          1,
          1,
          1,
          1,
          1,
          1,
          1,
          1,
          1,
          1,
          1,
          1,
          1,
          1,
          1,
          1,
          1,
          1,
          1,
          1,
          1,
          1,
          1,
          1,
          1,
          1,
          1,
          1,
          1,
          1,
          1,
          1,
          1,
          1,
          1,
          1,
          1,
          1,
          1,
          1,
          1,
          1,
          1,
          1,
          1,
          1,
          1,
          1,
          1,
          1,
          1,
          1,
          1,
          1,
          1,
          1,
          1,
          1,
          1,
          1,
          1,
          1,
          1,
          1,
          1,
          1,
          1,
          1,
          1,
          1,
          1,
          1,
          1,
          1,
          1,
          1,
          1,
          1,
          1,
          1,
          1,
          1,
          1,
          1,
          1,
          1,
          1,
          1,
          1,
          1,
          1,
          1,
          1,
          1,
          1,
          1,
          1,
          1,
          1,
          1,
          1,
          1,
          1,
          1,
          1,
          1,
          1,
          1,
          1,
          1,
          1,
          1,
          1,
          1,
          1,
          1,
          1,
          1,
          1,
          1,
          1,
          1,
          1,
          1,
          1,
          1,
          1,
          1,
          1,
          1,
          1,
          1,
          1,
          1,
          1,
          1,
          1,
          1,
          1,
          1,
          1,
          1,
          1,
          1,
          1,
          1,
          1,
          1,
          1,
          1,
          1,
          1,
          1,
          1,
          1,
          1,
          1,
          1,
          1,
          1,
          1,
          1,
          1,
          1,
          1,
          1,
          1,
          1,
          1,
          1,
          1,
          1,
          1,
          1,
          1,
          1,
          1,
          1,
          1,
          1,
          1,
          1,
          1,
          1,
          1,
          1,
          1,
          1,
          1,
          1,
          1,
          1,
          1,
          1,
          1,
          1,
          1,
          1,
          1,
          1,
          1,
          1
         ],
         "yaxis": "y"
        },
        {
         "alignmentgroup": "True",
         "hovertemplate": "sector_type=mining<br>country=%{x}<br>count=%{y}<extra></extra>",
         "legendgroup": "mining",
         "marker": {
          "color": "#00cc96",
          "pattern": {
           "shape": ""
          }
         },
         "name": "mining",
         "offsetgroup": "mining",
         "orientation": "v",
         "showlegend": true,
         "textposition": "auto",
         "type": "bar",
         "x": [
          "brazil",
          "brazil",
          "brazil",
          "brazil",
          "guyana",
          "guyana",
          "guyana",
          "peru",
          "brazil",
          "brazil",
          "guyana",
          "peru",
          "brazil",
          "peru",
          "guyana",
          "guyana",
          "brazil",
          "brazil",
          "brazil",
          "brazil",
          "french_guiana",
          "french_guiana",
          "guyana",
          "peru",
          "french_guiana",
          "brazil",
          "brazil",
          "brazil",
          "ecuador",
          "ecuador",
          "ecuador",
          "brazil",
          "brazil",
          "brazil",
          "brazil",
          "brazil",
          "french_guiana",
          "french_guiana",
          "guyana",
          "guyana",
          "brazil",
          "french_guiana",
          "french_guiana",
          "brazil",
          "brazil",
          "peru",
          "peru",
          "peru",
          "peru",
          "ecuador",
          "ecuador",
          "peru",
          "peru",
          "french_guiana",
          "french_guiana",
          "brazil",
          "brazil",
          "brazil",
          "brazil",
          "guyana",
          "brazil",
          "brazil",
          "guyana",
          "guyana",
          "peru",
          "ecuador",
          "peru",
          "peru",
          "peru",
          "venezuela",
          "peru",
          "brazil",
          "brazil",
          "brazil",
          "colombia",
          "peru",
          "brazil",
          "brazil",
          "french_guiana",
          "french_guiana",
          "guyana",
          "brazil",
          "suriname",
          "suriname",
          "brazil",
          "ecuador",
          "brazil",
          "colombia",
          "french_guiana",
          "french_guiana",
          "brazil",
          "brazil",
          "guyana",
          "guyana",
          "peru",
          "brazil",
          "ecuador",
          "peru",
          "peru",
          "ecuador",
          "brazil",
          "brazil",
          "brazil",
          "brazil",
          "ecuador",
          "guyana",
          "french_guiana",
          "peru",
          "ecuador",
          "peru",
          "suriname",
          "brazil",
          "french_guiana",
          "peru",
          "brazil",
          "brazil",
          "peru",
          "bolivia",
          "brazil",
          "brazil",
          "brazil",
          "suriname",
          "suriname",
          "brazil",
          "brazil",
          "venezuela",
          "venezuela",
          "venezuela",
          "brazil",
          "ecuador",
          "ecuador",
          "guyana",
          "ecuador",
          "suriname",
          "ecuador",
          "brazil",
          "guyana",
          "brazil",
          "brazil",
          "brazil",
          "brazil",
          "brazil",
          "brazil",
          "brazil",
          "brazil",
          "brazil",
          "brazil",
          "brazil",
          "peru",
          "brazil",
          "ecuador",
          "guyana"
         ],
         "xaxis": "x",
         "y": [
          1,
          1,
          1,
          1,
          1,
          1,
          1,
          1,
          1,
          1,
          1,
          1,
          1,
          1,
          1,
          1,
          1,
          1,
          1,
          1,
          1,
          1,
          1,
          1,
          1,
          1,
          1,
          1,
          1,
          1,
          1,
          1,
          1,
          1,
          1,
          1,
          1,
          1,
          1,
          1,
          1,
          1,
          1,
          1,
          1,
          1,
          1,
          1,
          1,
          1,
          1,
          1,
          1,
          1,
          1,
          1,
          1,
          1,
          1,
          1,
          1,
          1,
          1,
          1,
          1,
          1,
          1,
          1,
          1,
          1,
          1,
          1,
          1,
          1,
          1,
          1,
          1,
          1,
          1,
          1,
          1,
          1,
          1,
          1,
          1,
          1,
          1,
          1,
          1,
          1,
          1,
          1,
          1,
          1,
          1,
          1,
          1,
          1,
          1,
          1,
          1,
          1,
          1,
          1,
          1,
          1,
          1,
          1,
          1,
          1,
          1,
          1,
          1,
          1,
          1,
          1,
          1,
          1,
          1,
          1,
          1,
          1,
          1,
          1,
          1,
          1,
          1,
          1,
          1,
          1,
          1,
          1,
          1,
          1,
          1,
          1,
          1,
          1,
          1,
          1,
          1,
          1,
          1,
          1,
          1,
          1,
          1,
          1,
          1,
          1,
          1,
          1
         ],
         "yaxis": "y"
        }
       ],
       "layout": {
        "barmode": "group",
        "height": 500,
        "legend": {
         "title": {
          "text": "sector_type"
         },
         "tracegroupgap": 0
        },
        "margin": {
         "t": 60
        },
        "paper_bgcolor": "#FFFFFF",
        "showlegend": true,
        "template": {
         "data": {
          "bar": [
           {
            "error_x": {
             "color": "#2a3f5f"
            },
            "error_y": {
             "color": "#2a3f5f"
            },
            "marker": {
             "line": {
              "color": "#E5ECF6",
              "width": 0.5
             },
             "pattern": {
              "fillmode": "overlay",
              "size": 10,
              "solidity": 0.2
             }
            },
            "type": "bar"
           }
          ],
          "barpolar": [
           {
            "marker": {
             "line": {
              "color": "#E5ECF6",
              "width": 0.5
             },
             "pattern": {
              "fillmode": "overlay",
              "size": 10,
              "solidity": 0.2
             }
            },
            "type": "barpolar"
           }
          ],
          "carpet": [
           {
            "aaxis": {
             "endlinecolor": "#2a3f5f",
             "gridcolor": "white",
             "linecolor": "white",
             "minorgridcolor": "white",
             "startlinecolor": "#2a3f5f"
            },
            "baxis": {
             "endlinecolor": "#2a3f5f",
             "gridcolor": "white",
             "linecolor": "white",
             "minorgridcolor": "white",
             "startlinecolor": "#2a3f5f"
            },
            "type": "carpet"
           }
          ],
          "choropleth": [
           {
            "colorbar": {
             "outlinewidth": 0,
             "ticks": ""
            },
            "type": "choropleth"
           }
          ],
          "contour": [
           {
            "colorbar": {
             "outlinewidth": 0,
             "ticks": ""
            },
            "colorscale": [
             [
              0,
              "#0d0887"
             ],
             [
              0.1111111111111111,
              "#46039f"
             ],
             [
              0.2222222222222222,
              "#7201a8"
             ],
             [
              0.3333333333333333,
              "#9c179e"
             ],
             [
              0.4444444444444444,
              "#bd3786"
             ],
             [
              0.5555555555555556,
              "#d8576b"
             ],
             [
              0.6666666666666666,
              "#ed7953"
             ],
             [
              0.7777777777777778,
              "#fb9f3a"
             ],
             [
              0.8888888888888888,
              "#fdca26"
             ],
             [
              1,
              "#f0f921"
             ]
            ],
            "type": "contour"
           }
          ],
          "contourcarpet": [
           {
            "colorbar": {
             "outlinewidth": 0,
             "ticks": ""
            },
            "type": "contourcarpet"
           }
          ],
          "heatmap": [
           {
            "colorbar": {
             "outlinewidth": 0,
             "ticks": ""
            },
            "colorscale": [
             [
              0,
              "#0d0887"
             ],
             [
              0.1111111111111111,
              "#46039f"
             ],
             [
              0.2222222222222222,
              "#7201a8"
             ],
             [
              0.3333333333333333,
              "#9c179e"
             ],
             [
              0.4444444444444444,
              "#bd3786"
             ],
             [
              0.5555555555555556,
              "#d8576b"
             ],
             [
              0.6666666666666666,
              "#ed7953"
             ],
             [
              0.7777777777777778,
              "#fb9f3a"
             ],
             [
              0.8888888888888888,
              "#fdca26"
             ],
             [
              1,
              "#f0f921"
             ]
            ],
            "type": "heatmap"
           }
          ],
          "heatmapgl": [
           {
            "colorbar": {
             "outlinewidth": 0,
             "ticks": ""
            },
            "colorscale": [
             [
              0,
              "#0d0887"
             ],
             [
              0.1111111111111111,
              "#46039f"
             ],
             [
              0.2222222222222222,
              "#7201a8"
             ],
             [
              0.3333333333333333,
              "#9c179e"
             ],
             [
              0.4444444444444444,
              "#bd3786"
             ],
             [
              0.5555555555555556,
              "#d8576b"
             ],
             [
              0.6666666666666666,
              "#ed7953"
             ],
             [
              0.7777777777777778,
              "#fb9f3a"
             ],
             [
              0.8888888888888888,
              "#fdca26"
             ],
             [
              1,
              "#f0f921"
             ]
            ],
            "type": "heatmapgl"
           }
          ],
          "histogram": [
           {
            "marker": {
             "pattern": {
              "fillmode": "overlay",
              "size": 10,
              "solidity": 0.2
             }
            },
            "type": "histogram"
           }
          ],
          "histogram2d": [
           {
            "colorbar": {
             "outlinewidth": 0,
             "ticks": ""
            },
            "colorscale": [
             [
              0,
              "#0d0887"
             ],
             [
              0.1111111111111111,
              "#46039f"
             ],
             [
              0.2222222222222222,
              "#7201a8"
             ],
             [
              0.3333333333333333,
              "#9c179e"
             ],
             [
              0.4444444444444444,
              "#bd3786"
             ],
             [
              0.5555555555555556,
              "#d8576b"
             ],
             [
              0.6666666666666666,
              "#ed7953"
             ],
             [
              0.7777777777777778,
              "#fb9f3a"
             ],
             [
              0.8888888888888888,
              "#fdca26"
             ],
             [
              1,
              "#f0f921"
             ]
            ],
            "type": "histogram2d"
           }
          ],
          "histogram2dcontour": [
           {
            "colorbar": {
             "outlinewidth": 0,
             "ticks": ""
            },
            "colorscale": [
             [
              0,
              "#0d0887"
             ],
             [
              0.1111111111111111,
              "#46039f"
             ],
             [
              0.2222222222222222,
              "#7201a8"
             ],
             [
              0.3333333333333333,
              "#9c179e"
             ],
             [
              0.4444444444444444,
              "#bd3786"
             ],
             [
              0.5555555555555556,
              "#d8576b"
             ],
             [
              0.6666666666666666,
              "#ed7953"
             ],
             [
              0.7777777777777778,
              "#fb9f3a"
             ],
             [
              0.8888888888888888,
              "#fdca26"
             ],
             [
              1,
              "#f0f921"
             ]
            ],
            "type": "histogram2dcontour"
           }
          ],
          "mesh3d": [
           {
            "colorbar": {
             "outlinewidth": 0,
             "ticks": ""
            },
            "type": "mesh3d"
           }
          ],
          "parcoords": [
           {
            "line": {
             "colorbar": {
              "outlinewidth": 0,
              "ticks": ""
             }
            },
            "type": "parcoords"
           }
          ],
          "pie": [
           {
            "automargin": true,
            "type": "pie"
           }
          ],
          "scatter": [
           {
            "fillpattern": {
             "fillmode": "overlay",
             "size": 10,
             "solidity": 0.2
            },
            "type": "scatter"
           }
          ],
          "scatter3d": [
           {
            "line": {
             "colorbar": {
              "outlinewidth": 0,
              "ticks": ""
             }
            },
            "marker": {
             "colorbar": {
              "outlinewidth": 0,
              "ticks": ""
             }
            },
            "type": "scatter3d"
           }
          ],
          "scattercarpet": [
           {
            "marker": {
             "colorbar": {
              "outlinewidth": 0,
              "ticks": ""
             }
            },
            "type": "scattercarpet"
           }
          ],
          "scattergeo": [
           {
            "marker": {
             "colorbar": {
              "outlinewidth": 0,
              "ticks": ""
             }
            },
            "type": "scattergeo"
           }
          ],
          "scattergl": [
           {
            "marker": {
             "colorbar": {
              "outlinewidth": 0,
              "ticks": ""
             }
            },
            "type": "scattergl"
           }
          ],
          "scattermapbox": [
           {
            "marker": {
             "colorbar": {
              "outlinewidth": 0,
              "ticks": ""
             }
            },
            "type": "scattermapbox"
           }
          ],
          "scatterpolar": [
           {
            "marker": {
             "colorbar": {
              "outlinewidth": 0,
              "ticks": ""
             }
            },
            "type": "scatterpolar"
           }
          ],
          "scatterpolargl": [
           {
            "marker": {
             "colorbar": {
              "outlinewidth": 0,
              "ticks": ""
             }
            },
            "type": "scatterpolargl"
           }
          ],
          "scatterternary": [
           {
            "marker": {
             "colorbar": {
              "outlinewidth": 0,
              "ticks": ""
             }
            },
            "type": "scatterternary"
           }
          ],
          "surface": [
           {
            "colorbar": {
             "outlinewidth": 0,
             "ticks": ""
            },
            "colorscale": [
             [
              0,
              "#0d0887"
             ],
             [
              0.1111111111111111,
              "#46039f"
             ],
             [
              0.2222222222222222,
              "#7201a8"
             ],
             [
              0.3333333333333333,
              "#9c179e"
             ],
             [
              0.4444444444444444,
              "#bd3786"
             ],
             [
              0.5555555555555556,
              "#d8576b"
             ],
             [
              0.6666666666666666,
              "#ed7953"
             ],
             [
              0.7777777777777778,
              "#fb9f3a"
             ],
             [
              0.8888888888888888,
              "#fdca26"
             ],
             [
              1,
              "#f0f921"
             ]
            ],
            "type": "surface"
           }
          ],
          "table": [
           {
            "cells": {
             "fill": {
              "color": "#EBF0F8"
             },
             "line": {
              "color": "white"
             }
            },
            "header": {
             "fill": {
              "color": "#C8D4E3"
             },
             "line": {
              "color": "white"
             }
            },
            "type": "table"
           }
          ]
         },
         "layout": {
          "annotationdefaults": {
           "arrowcolor": "#2a3f5f",
           "arrowhead": 0,
           "arrowwidth": 1
          },
          "autotypenumbers": "strict",
          "coloraxis": {
           "colorbar": {
            "outlinewidth": 0,
            "ticks": ""
           }
          },
          "colorscale": {
           "diverging": [
            [
             0,
             "#8e0152"
            ],
            [
             0.1,
             "#c51b7d"
            ],
            [
             0.2,
             "#de77ae"
            ],
            [
             0.3,
             "#f1b6da"
            ],
            [
             0.4,
             "#fde0ef"
            ],
            [
             0.5,
             "#f7f7f7"
            ],
            [
             0.6,
             "#e6f5d0"
            ],
            [
             0.7,
             "#b8e186"
            ],
            [
             0.8,
             "#7fbc41"
            ],
            [
             0.9,
             "#4d9221"
            ],
            [
             1,
             "#276419"
            ]
           ],
           "sequential": [
            [
             0,
             "#0d0887"
            ],
            [
             0.1111111111111111,
             "#46039f"
            ],
            [
             0.2222222222222222,
             "#7201a8"
            ],
            [
             0.3333333333333333,
             "#9c179e"
            ],
            [
             0.4444444444444444,
             "#bd3786"
            ],
            [
             0.5555555555555556,
             "#d8576b"
            ],
            [
             0.6666666666666666,
             "#ed7953"
            ],
            [
             0.7777777777777778,
             "#fb9f3a"
            ],
            [
             0.8888888888888888,
             "#fdca26"
            ],
            [
             1,
             "#f0f921"
            ]
           ],
           "sequentialminus": [
            [
             0,
             "#0d0887"
            ],
            [
             0.1111111111111111,
             "#46039f"
            ],
            [
             0.2222222222222222,
             "#7201a8"
            ],
            [
             0.3333333333333333,
             "#9c179e"
            ],
            [
             0.4444444444444444,
             "#bd3786"
            ],
            [
             0.5555555555555556,
             "#d8576b"
            ],
            [
             0.6666666666666666,
             "#ed7953"
            ],
            [
             0.7777777777777778,
             "#fb9f3a"
            ],
            [
             0.8888888888888888,
             "#fdca26"
            ],
            [
             1,
             "#f0f921"
            ]
           ]
          },
          "colorway": [
           "#636efa",
           "#EF553B",
           "#00cc96",
           "#ab63fa",
           "#FFA15A",
           "#19d3f3",
           "#FF6692",
           "#B6E880",
           "#FF97FF",
           "#FECB52"
          ],
          "font": {
           "color": "#2a3f5f"
          },
          "geo": {
           "bgcolor": "white",
           "lakecolor": "white",
           "landcolor": "#E5ECF6",
           "showlakes": true,
           "showland": true,
           "subunitcolor": "white"
          },
          "hoverlabel": {
           "align": "left"
          },
          "hovermode": "closest",
          "mapbox": {
           "style": "light"
          },
          "paper_bgcolor": "white",
          "plot_bgcolor": "#E5ECF6",
          "polar": {
           "angularaxis": {
            "gridcolor": "white",
            "linecolor": "white",
            "ticks": ""
           },
           "bgcolor": "#E5ECF6",
           "radialaxis": {
            "gridcolor": "white",
            "linecolor": "white",
            "ticks": ""
           }
          },
          "scene": {
           "xaxis": {
            "backgroundcolor": "#E5ECF6",
            "gridcolor": "white",
            "gridwidth": 2,
            "linecolor": "white",
            "showbackground": true,
            "ticks": "",
            "zerolinecolor": "white"
           },
           "yaxis": {
            "backgroundcolor": "#E5ECF6",
            "gridcolor": "white",
            "gridwidth": 2,
            "linecolor": "white",
            "showbackground": true,
            "ticks": "",
            "zerolinecolor": "white"
           },
           "zaxis": {
            "backgroundcolor": "#E5ECF6",
            "gridcolor": "white",
            "gridwidth": 2,
            "linecolor": "white",
            "showbackground": true,
            "ticks": "",
            "zerolinecolor": "white"
           }
          },
          "shapedefaults": {
           "line": {
            "color": "#2a3f5f"
           }
          },
          "ternary": {
           "aaxis": {
            "gridcolor": "white",
            "linecolor": "white",
            "ticks": ""
           },
           "baxis": {
            "gridcolor": "white",
            "linecolor": "white",
            "ticks": ""
           },
           "bgcolor": "#E5ECF6",
           "caxis": {
            "gridcolor": "white",
            "linecolor": "white",
            "ticks": ""
           }
          },
          "title": {
           "x": 0.05
          },
          "xaxis": {
           "automargin": true,
           "gridcolor": "white",
           "linecolor": "white",
           "ticks": "",
           "title": {
            "standoff": 15
           },
           "zerolinecolor": "white",
           "zerolinewidth": 2
          },
          "yaxis": {
           "automargin": true,
           "gridcolor": "white",
           "linecolor": "white",
           "ticks": "",
           "title": {
            "standoff": 15
           },
           "zerolinecolor": "white",
           "zerolinewidth": 2
          }
         }
        },
        "title": {
         "text": "Projects by sector per country"
        },
        "width": 800,
        "xaxis": {
         "anchor": "y",
         "domain": [
          0,
          1
         ],
         "title": {
          "text": "Country"
         }
        },
        "yaxis": {
         "anchor": "x",
         "domain": [
          0,
          1
         ],
         "title": {
          "text": "Project count"
         }
        }
       }
      }
     },
     "metadata": {},
     "output_type": "display_data"
    }
   ],
   "source": [
    "# Check the distribution of projects by country\n",
    "fig = px.bar(df, x='country', color='sector_type')\n",
    "fig.update_layout(\n",
    "    title = 'Projects by sector per country', \n",
    "    xaxis = dict(title = 'Country'), \n",
    "    yaxis = dict(title = 'Project count'), \n",
    "    barmode = 'group', \n",
    "    paper_bgcolor = '#FFFFFF', \n",
    "    showlegend = True,\n",
    "    width = 800,\n",
    "    height = 500\n",
    ")"
   ]
  },
  {
   "cell_type": "code",
   "execution_count": 37,
   "metadata": {},
   "outputs": [
    {
     "data": {
      "application/vnd.plotly.v1+json": {
       "config": {
        "plotlyServerURL": "https://plot.ly"
       },
       "data": [
        {
         "alignmentgroup": "True",
         "hovertemplate": "sector_type=hydropower<br>country_of_company_hq=%{x}<br>count=%{y}<extra></extra>",
         "legendgroup": "hydropower",
         "marker": {
          "color": "#636efa",
          "pattern": {
           "shape": ""
          }
         },
         "name": "hydropower",
         "offsetgroup": "hydropower",
         "orientation": "v",
         "showlegend": true,
         "textposition": "auto",
         "type": "bar",
         "x": [
          "bolivia",
          "bolivia",
          "bolivia",
          "bolivia",
          "bolivia",
          "bolivia",
          "bolivia",
          "bolivia",
          "bolivia",
          "bolivia",
          "bolivia",
          "brazil",
          "brazil",
          "brazil",
          "brazil",
          "brazil",
          "brazil",
          "brazil",
          "brazil",
          "brazil",
          "brazil",
          "brazil",
          "brazil",
          "brazil",
          "brazil",
          "brazil",
          "brazil",
          "brazil",
          "brazil",
          "brazil",
          "brazil",
          "brazil",
          "brazil",
          "brazil",
          "brazil",
          "brazil",
          "brazil",
          "brazil",
          "brazil",
          "brazil",
          "brazil",
          "brazil",
          "canada",
          "china",
          "china",
          "china",
          "china",
          "china",
          "china",
          "china",
          "china",
          "colombia",
          "ecuador",
          "ecuador",
          "ecuador",
          "ecuador",
          "ecuador",
          "ecuador",
          "ecuador",
          "ecuador",
          "ecuador",
          "france",
          "france",
          "france",
          "germany",
          "italy",
          "italy",
          "italy",
          "italy",
          "italy",
          "japan",
          "norway",
          "norway",
          "peru",
          "peru",
          "peru",
          "peru",
          "peru",
          "peru",
          "peru",
          "peru",
          "peru",
          "peru",
          "peru",
          "peru",
          "peru",
          "portugal",
          "portugal",
          "portugal",
          "portugal",
          "south_korea",
          "spain",
          "spain",
          "spain",
          "spain",
          "suriname",
          "usa",
          "venezuela",
          "venezuela",
          "venezuela"
         ],
         "xaxis": "x",
         "y": [
          1,
          1,
          1,
          1,
          1,
          1,
          1,
          1,
          1,
          1,
          1,
          1,
          1,
          1,
          1,
          1,
          1,
          1,
          1,
          1,
          1,
          1,
          1,
          1,
          1,
          1,
          1,
          1,
          1,
          1,
          1,
          1,
          1,
          1,
          1,
          1,
          1,
          1,
          1,
          1,
          1,
          1,
          1,
          1,
          1,
          1,
          1,
          1,
          1,
          1,
          1,
          1,
          1,
          1,
          1,
          1,
          1,
          1,
          1,
          1,
          1,
          1,
          1,
          1,
          1,
          1,
          1,
          1,
          1,
          1,
          1,
          1,
          1,
          1,
          1,
          1,
          1,
          1,
          1,
          1,
          1,
          1,
          1,
          1,
          1,
          1,
          1,
          1,
          1,
          1,
          1,
          1,
          1,
          1,
          1,
          1,
          1,
          1,
          1,
          1
         ],
         "yaxis": "y"
        },
        {
         "alignmentgroup": "True",
         "hovertemplate": "sector_type=oil_gas<br>country_of_company_hq=%{x}<br>count=%{y}<extra></extra>",
         "legendgroup": "oil_gas",
         "marker": {
          "color": "#EF553B",
          "pattern": {
           "shape": ""
          }
         },
         "name": "oil_gas",
         "offsetgroup": "oil_gas",
         "orientation": "v",
         "showlegend": true,
         "textposition": "auto",
         "type": "bar",
         "x": [
          "algeria",
          "algeria",
          "argentina",
          "argentina",
          "argentina",
          "argentina",
          "argentina",
          "argentina",
          "argentina",
          "argentina",
          "argentina",
          "argentina",
          "argentina",
          "argentina",
          "argentina",
          "argentina",
          "argentina",
          "argentina",
          "belarus",
          "bolivia",
          "bolivia",
          "bolivia",
          "bolivia",
          "bolivia",
          "bolivia",
          "bolivia",
          "bolivia",
          "bolivia",
          "bolivia",
          "bolivia",
          "bolivia",
          "bolivia",
          "bolivia",
          "bolivia",
          "bolivia",
          "bolivia",
          "bolivia",
          "bolivia",
          "bolivia",
          "bolivia",
          "bolivia",
          "bolivia",
          "bolivia",
          "bolivia",
          "bolivia",
          "bolivia",
          "bolivia",
          "bolivia",
          "bolivia",
          "bolivia",
          "bolivia",
          "bolivia",
          "bolivia",
          "bolivia",
          "bolivia",
          "bolivia",
          "bolivia",
          "bolivia",
          "bolivia",
          "bolivia",
          "bolivia",
          "bolivia",
          "bolivia",
          "bolivia",
          "bolivia",
          "bolivia",
          "bolivia",
          "bolivia",
          "bolivia",
          "brazil",
          "brazil",
          "brazil",
          "brazil",
          "brazil",
          "brazil",
          "brazil",
          "brazil",
          "brazil",
          "brazil",
          "brazil",
          "brazil",
          "brazil",
          "brazil",
          "brazil",
          "brazil",
          "brazil",
          "canada",
          "canada",
          "canada",
          "canada",
          "canada",
          "canada",
          "canada",
          "canada",
          "canada",
          "canada",
          "canada",
          "canada",
          "canada",
          "canada",
          "canada",
          "canada",
          "canada",
          "canada",
          "canada",
          "canada",
          "canada",
          "canada",
          "canada",
          "canada",
          "canada",
          "canada",
          "canada",
          "canada",
          "canada",
          "canada",
          "canada",
          "canada",
          "canada",
          "canada",
          "canada",
          "canada",
          "chile",
          "chile",
          "chile",
          "chile",
          "chile",
          "chile",
          "chile",
          "chile",
          "chile",
          "chile",
          "chile",
          "chile",
          "chile",
          "chile",
          "chile",
          "chile",
          "chile",
          "chile",
          "chile",
          "chile",
          "chile",
          "china",
          "china",
          "china",
          "china",
          "china",
          "china",
          "china",
          "china",
          "china",
          "china",
          "china",
          "china",
          "china",
          "china",
          "china",
          "colombia",
          "colombia",
          "colombia",
          "colombia",
          "colombia",
          "colombia",
          "colombia",
          "colombia",
          "colombia",
          "colombia",
          "colombia",
          "colombia",
          "colombia",
          "colombia",
          "colombia",
          "colombia",
          "colombia",
          "colombia",
          "colombia",
          "colombia",
          "colombia",
          "colombia",
          "colombia",
          "ecuador",
          "ecuador",
          "ecuador",
          "ecuador",
          "ecuador",
          "ecuador",
          "ecuador",
          "ecuador",
          "ecuador",
          "ecuador",
          "ecuador",
          "ecuador",
          "ecuador",
          "ecuador",
          "ecuador",
          "ecuador",
          "ecuador",
          "ecuador",
          "ecuador",
          "ecuador",
          "ecuador",
          "ecuador",
          "ecuador",
          "ecuador",
          "ecuador",
          "ecuador",
          "ecuador",
          "ecuador",
          "ecuador",
          "ecuador",
          "india",
          "italy",
          "peru",
          "vietnam",
          "south_korea",
          "peru",
          "peru",
          "peru",
          "portugal",
          "russia",
          "russia",
          "russia",
          "russia",
          "russia",
          "russia",
          "russia",
          "russia",
          "russia",
          "russia",
          "russia",
          "russia",
          "russia",
          "russia",
          "singapore",
          "singapore",
          "singapore",
          "south_korea",
          "south_korea",
          "south_korea",
          "spain",
          "spain",
          "spain",
          "spain",
          "spain",
          "spain",
          "spain",
          "spain",
          "spain",
          "spain",
          "spain",
          "spain",
          "spain",
          "canada",
          "spain",
          "spain",
          "spain",
          "spain",
          "spain",
          "spain",
          "canada",
          "spain",
          "spain",
          "spain",
          "spain",
          "spain",
          "spain",
          "spain",
          "spain",
          "spain",
          "spain",
          "spain",
          "spain",
          "spain",
          "spain",
          "spain",
          "spain",
          "suriname",
          "suriname",
          "suriname",
          "taiwan",
          "taiwan",
          "the_netherlands",
          "trinidad_and_tobago",
          "uk",
          "uk",
          "uk",
          "uk",
          "usa",
          "usa",
          "usa",
          "usa",
          "usa",
          "usa",
          "usa",
          "usa",
          "usa",
          "venezuela",
          "venezuela",
          "venezuela",
          "venezuela",
          "venezuela"
         ],
         "xaxis": "x",
         "y": [
          1,
          1,
          1,
          1,
          1,
          1,
          1,
          1,
          1,
          1,
          1,
          1,
          1,
          1,
          1,
          1,
          1,
          1,
          1,
          1,
          1,
          1,
          1,
          1,
          1,
          1,
          1,
          1,
          1,
          1,
          1,
          1,
          1,
          1,
          1,
          1,
          1,
          1,
          1,
          1,
          1,
          1,
          1,
          1,
          1,
          1,
          1,
          1,
          1,
          1,
          1,
          1,
          1,
          1,
          1,
          1,
          1,
          1,
          1,
          1,
          1,
          1,
          1,
          1,
          1,
          1,
          1,
          1,
          1,
          1,
          1,
          1,
          1,
          1,
          1,
          1,
          1,
          1,
          1,
          1,
          1,
          1,
          1,
          1,
          1,
          1,
          1,
          1,
          1,
          1,
          1,
          1,
          1,
          1,
          1,
          1,
          1,
          1,
          1,
          1,
          1,
          1,
          1,
          1,
          1,
          1,
          1,
          1,
          1,
          1,
          1,
          1,
          1,
          1,
          1,
          1,
          1,
          1,
          1,
          1,
          1,
          1,
          1,
          1,
          1,
          1,
          1,
          1,
          1,
          1,
          1,
          1,
          1,
          1,
          1,
          1,
          1,
          1,
          1,
          1,
          1,
          1,
          1,
          1,
          1,
          1,
          1,
          1,
          1,
          1,
          1,
          1,
          1,
          1,
          1,
          1,
          1,
          1,
          1,
          1,
          1,
          1,
          1,
          1,
          1,
          1,
          1,
          1,
          1,
          1,
          1,
          1,
          1,
          1,
          1,
          1,
          1,
          1,
          1,
          1,
          1,
          1,
          1,
          1,
          1,
          1,
          1,
          1,
          1,
          1,
          1,
          1,
          1,
          1,
          1,
          1,
          1,
          1,
          1,
          1,
          1,
          1,
          1,
          1,
          1,
          1,
          1,
          1,
          1,
          1,
          1,
          1,
          1,
          1,
          1,
          1,
          1,
          1,
          1,
          1,
          1,
          1,
          1,
          1,
          1,
          1,
          1,
          1,
          1,
          1,
          1,
          1,
          1,
          1,
          1,
          1,
          1,
          1,
          1,
          1,
          1,
          1,
          1,
          1,
          1,
          1,
          1,
          1,
          1,
          1,
          1,
          1,
          1,
          1,
          1,
          1,
          1,
          1,
          1,
          1,
          1,
          1,
          1,
          1,
          1,
          1,
          1,
          1,
          1,
          1,
          1,
          1,
          1,
          1,
          1,
          1,
          1,
          1,
          1,
          1,
          1,
          1,
          1,
          1,
          1,
          1,
          1,
          1,
          1,
          1,
          1,
          1,
          1,
          1,
          1,
          1,
          1,
          1,
          1,
          1,
          1,
          1
         ],
         "yaxis": "y"
        },
        {
         "alignmentgroup": "True",
         "hovertemplate": "sector_type=mining<br>country_of_company_hq=%{x}<br>count=%{y}<extra></extra>",
         "legendgroup": "mining",
         "marker": {
          "color": "#00cc96",
          "pattern": {
           "shape": ""
          }
         },
         "name": "mining",
         "offsetgroup": "mining",
         "orientation": "v",
         "showlegend": true,
         "textposition": "auto",
         "type": "bar",
         "x": [
          "australia",
          "canada",
          "uk",
          "uk",
          "australia",
          "canada",
          "canada",
          "peru",
          "brazil",
          "canada",
          "china",
          "peru",
          "canada",
          "canada",
          "canada",
          "canada",
          "canada",
          "brazil",
          "brazil",
          "uk",
          "france",
          "usa",
          "canada",
          "canada",
          "canada",
          "canada",
          "usa",
          "australia",
          "australia",
          "canada",
          "ecuador",
          "uk",
          "brazil",
          "brazil",
          "canada",
          "brazil",
          "france",
          "canada",
          "canada",
          "canada",
          "british_virgin_islands",
          "france",
          "usa",
          "uk",
          "brazil",
          "canada",
          "peru",
          "brazil",
          "usa",
          "canada",
          "canada",
          "canada",
          "canada",
          "french_guiana",
          "canada",
          "canada",
          "australia",
          "australia",
          "australia",
          "canada",
          "australia",
          "australia",
          "australia",
          "canada",
          "uk",
          "australia",
          "china",
          "china",
          "china",
          "venezuela",
          "peru",
          "canada",
          "chile",
          "canada",
          "canada",
          "cayman_islands",
          "canada",
          "canada",
          "canada",
          "canada",
          "canada",
          "british_virgin_islands",
          "usa",
          "suriname",
          "norway",
          "china",
          "uk",
          "canada",
          "canada",
          "russia",
          "canada",
          "brazil",
          "canada",
          "australia",
          "australia",
          "brazil",
          "canada",
          "china",
          "uk",
          "china",
          "australia",
          "australia",
          "canada",
          "canada",
          "australia",
          "guyana",
          "canada",
          "china",
          "australia",
          "peru",
          "canada",
          "brazil",
          "france",
          "peru",
          "brazil",
          "brazil",
          "canada",
          "bolivia",
          "canada",
          "uk",
          "canada",
          "canada",
          "suriname",
          "canada",
          "brazil",
          "venezuela",
          "usa",
          "venezuela",
          "canada",
          "canada",
          "australia",
          "australia",
          "canada",
          "canada",
          "australia",
          "canada",
          "canada",
          "canada",
          "brazil",
          "usa",
          "brazil",
          "norway",
          "uk",
          "australia",
          "canada",
          "canada",
          "uk",
          "uk",
          "peru",
          "canada",
          "canada",
          "china"
         ],
         "xaxis": "x",
         "y": [
          1,
          1,
          1,
          1,
          1,
          1,
          1,
          1,
          1,
          1,
          1,
          1,
          1,
          1,
          1,
          1,
          1,
          1,
          1,
          1,
          1,
          1,
          1,
          1,
          1,
          1,
          1,
          1,
          1,
          1,
          1,
          1,
          1,
          1,
          1,
          1,
          1,
          1,
          1,
          1,
          1,
          1,
          1,
          1,
          1,
          1,
          1,
          1,
          1,
          1,
          1,
          1,
          1,
          1,
          1,
          1,
          1,
          1,
          1,
          1,
          1,
          1,
          1,
          1,
          1,
          1,
          1,
          1,
          1,
          1,
          1,
          1,
          1,
          1,
          1,
          1,
          1,
          1,
          1,
          1,
          1,
          1,
          1,
          1,
          1,
          1,
          1,
          1,
          1,
          1,
          1,
          1,
          1,
          1,
          1,
          1,
          1,
          1,
          1,
          1,
          1,
          1,
          1,
          1,
          1,
          1,
          1,
          1,
          1,
          1,
          1,
          1,
          1,
          1,
          1,
          1,
          1,
          1,
          1,
          1,
          1,
          1,
          1,
          1,
          1,
          1,
          1,
          1,
          1,
          1,
          1,
          1,
          1,
          1,
          1,
          1,
          1,
          1,
          1,
          1,
          1,
          1,
          1,
          1,
          1,
          1,
          1,
          1,
          1,
          1,
          1,
          1
         ],
         "yaxis": "y"
        }
       ],
       "layout": {
        "barmode": "group",
        "height": 500,
        "legend": {
         "title": {
          "text": "sector_type"
         },
         "tracegroupgap": 0
        },
        "margin": {
         "t": 60
        },
        "paper_bgcolor": "#FFFFFF",
        "showlegend": true,
        "template": {
         "data": {
          "bar": [
           {
            "error_x": {
             "color": "#2a3f5f"
            },
            "error_y": {
             "color": "#2a3f5f"
            },
            "marker": {
             "line": {
              "color": "#E5ECF6",
              "width": 0.5
             },
             "pattern": {
              "fillmode": "overlay",
              "size": 10,
              "solidity": 0.2
             }
            },
            "type": "bar"
           }
          ],
          "barpolar": [
           {
            "marker": {
             "line": {
              "color": "#E5ECF6",
              "width": 0.5
             },
             "pattern": {
              "fillmode": "overlay",
              "size": 10,
              "solidity": 0.2
             }
            },
            "type": "barpolar"
           }
          ],
          "carpet": [
           {
            "aaxis": {
             "endlinecolor": "#2a3f5f",
             "gridcolor": "white",
             "linecolor": "white",
             "minorgridcolor": "white",
             "startlinecolor": "#2a3f5f"
            },
            "baxis": {
             "endlinecolor": "#2a3f5f",
             "gridcolor": "white",
             "linecolor": "white",
             "minorgridcolor": "white",
             "startlinecolor": "#2a3f5f"
            },
            "type": "carpet"
           }
          ],
          "choropleth": [
           {
            "colorbar": {
             "outlinewidth": 0,
             "ticks": ""
            },
            "type": "choropleth"
           }
          ],
          "contour": [
           {
            "colorbar": {
             "outlinewidth": 0,
             "ticks": ""
            },
            "colorscale": [
             [
              0,
              "#0d0887"
             ],
             [
              0.1111111111111111,
              "#46039f"
             ],
             [
              0.2222222222222222,
              "#7201a8"
             ],
             [
              0.3333333333333333,
              "#9c179e"
             ],
             [
              0.4444444444444444,
              "#bd3786"
             ],
             [
              0.5555555555555556,
              "#d8576b"
             ],
             [
              0.6666666666666666,
              "#ed7953"
             ],
             [
              0.7777777777777778,
              "#fb9f3a"
             ],
             [
              0.8888888888888888,
              "#fdca26"
             ],
             [
              1,
              "#f0f921"
             ]
            ],
            "type": "contour"
           }
          ],
          "contourcarpet": [
           {
            "colorbar": {
             "outlinewidth": 0,
             "ticks": ""
            },
            "type": "contourcarpet"
           }
          ],
          "heatmap": [
           {
            "colorbar": {
             "outlinewidth": 0,
             "ticks": ""
            },
            "colorscale": [
             [
              0,
              "#0d0887"
             ],
             [
              0.1111111111111111,
              "#46039f"
             ],
             [
              0.2222222222222222,
              "#7201a8"
             ],
             [
              0.3333333333333333,
              "#9c179e"
             ],
             [
              0.4444444444444444,
              "#bd3786"
             ],
             [
              0.5555555555555556,
              "#d8576b"
             ],
             [
              0.6666666666666666,
              "#ed7953"
             ],
             [
              0.7777777777777778,
              "#fb9f3a"
             ],
             [
              0.8888888888888888,
              "#fdca26"
             ],
             [
              1,
              "#f0f921"
             ]
            ],
            "type": "heatmap"
           }
          ],
          "heatmapgl": [
           {
            "colorbar": {
             "outlinewidth": 0,
             "ticks": ""
            },
            "colorscale": [
             [
              0,
              "#0d0887"
             ],
             [
              0.1111111111111111,
              "#46039f"
             ],
             [
              0.2222222222222222,
              "#7201a8"
             ],
             [
              0.3333333333333333,
              "#9c179e"
             ],
             [
              0.4444444444444444,
              "#bd3786"
             ],
             [
              0.5555555555555556,
              "#d8576b"
             ],
             [
              0.6666666666666666,
              "#ed7953"
             ],
             [
              0.7777777777777778,
              "#fb9f3a"
             ],
             [
              0.8888888888888888,
              "#fdca26"
             ],
             [
              1,
              "#f0f921"
             ]
            ],
            "type": "heatmapgl"
           }
          ],
          "histogram": [
           {
            "marker": {
             "pattern": {
              "fillmode": "overlay",
              "size": 10,
              "solidity": 0.2
             }
            },
            "type": "histogram"
           }
          ],
          "histogram2d": [
           {
            "colorbar": {
             "outlinewidth": 0,
             "ticks": ""
            },
            "colorscale": [
             [
              0,
              "#0d0887"
             ],
             [
              0.1111111111111111,
              "#46039f"
             ],
             [
              0.2222222222222222,
              "#7201a8"
             ],
             [
              0.3333333333333333,
              "#9c179e"
             ],
             [
              0.4444444444444444,
              "#bd3786"
             ],
             [
              0.5555555555555556,
              "#d8576b"
             ],
             [
              0.6666666666666666,
              "#ed7953"
             ],
             [
              0.7777777777777778,
              "#fb9f3a"
             ],
             [
              0.8888888888888888,
              "#fdca26"
             ],
             [
              1,
              "#f0f921"
             ]
            ],
            "type": "histogram2d"
           }
          ],
          "histogram2dcontour": [
           {
            "colorbar": {
             "outlinewidth": 0,
             "ticks": ""
            },
            "colorscale": [
             [
              0,
              "#0d0887"
             ],
             [
              0.1111111111111111,
              "#46039f"
             ],
             [
              0.2222222222222222,
              "#7201a8"
             ],
             [
              0.3333333333333333,
              "#9c179e"
             ],
             [
              0.4444444444444444,
              "#bd3786"
             ],
             [
              0.5555555555555556,
              "#d8576b"
             ],
             [
              0.6666666666666666,
              "#ed7953"
             ],
             [
              0.7777777777777778,
              "#fb9f3a"
             ],
             [
              0.8888888888888888,
              "#fdca26"
             ],
             [
              1,
              "#f0f921"
             ]
            ],
            "type": "histogram2dcontour"
           }
          ],
          "mesh3d": [
           {
            "colorbar": {
             "outlinewidth": 0,
             "ticks": ""
            },
            "type": "mesh3d"
           }
          ],
          "parcoords": [
           {
            "line": {
             "colorbar": {
              "outlinewidth": 0,
              "ticks": ""
             }
            },
            "type": "parcoords"
           }
          ],
          "pie": [
           {
            "automargin": true,
            "type": "pie"
           }
          ],
          "scatter": [
           {
            "fillpattern": {
             "fillmode": "overlay",
             "size": 10,
             "solidity": 0.2
            },
            "type": "scatter"
           }
          ],
          "scatter3d": [
           {
            "line": {
             "colorbar": {
              "outlinewidth": 0,
              "ticks": ""
             }
            },
            "marker": {
             "colorbar": {
              "outlinewidth": 0,
              "ticks": ""
             }
            },
            "type": "scatter3d"
           }
          ],
          "scattercarpet": [
           {
            "marker": {
             "colorbar": {
              "outlinewidth": 0,
              "ticks": ""
             }
            },
            "type": "scattercarpet"
           }
          ],
          "scattergeo": [
           {
            "marker": {
             "colorbar": {
              "outlinewidth": 0,
              "ticks": ""
             }
            },
            "type": "scattergeo"
           }
          ],
          "scattergl": [
           {
            "marker": {
             "colorbar": {
              "outlinewidth": 0,
              "ticks": ""
             }
            },
            "type": "scattergl"
           }
          ],
          "scattermapbox": [
           {
            "marker": {
             "colorbar": {
              "outlinewidth": 0,
              "ticks": ""
             }
            },
            "type": "scattermapbox"
           }
          ],
          "scatterpolar": [
           {
            "marker": {
             "colorbar": {
              "outlinewidth": 0,
              "ticks": ""
             }
            },
            "type": "scatterpolar"
           }
          ],
          "scatterpolargl": [
           {
            "marker": {
             "colorbar": {
              "outlinewidth": 0,
              "ticks": ""
             }
            },
            "type": "scatterpolargl"
           }
          ],
          "scatterternary": [
           {
            "marker": {
             "colorbar": {
              "outlinewidth": 0,
              "ticks": ""
             }
            },
            "type": "scatterternary"
           }
          ],
          "surface": [
           {
            "colorbar": {
             "outlinewidth": 0,
             "ticks": ""
            },
            "colorscale": [
             [
              0,
              "#0d0887"
             ],
             [
              0.1111111111111111,
              "#46039f"
             ],
             [
              0.2222222222222222,
              "#7201a8"
             ],
             [
              0.3333333333333333,
              "#9c179e"
             ],
             [
              0.4444444444444444,
              "#bd3786"
             ],
             [
              0.5555555555555556,
              "#d8576b"
             ],
             [
              0.6666666666666666,
              "#ed7953"
             ],
             [
              0.7777777777777778,
              "#fb9f3a"
             ],
             [
              0.8888888888888888,
              "#fdca26"
             ],
             [
              1,
              "#f0f921"
             ]
            ],
            "type": "surface"
           }
          ],
          "table": [
           {
            "cells": {
             "fill": {
              "color": "#EBF0F8"
             },
             "line": {
              "color": "white"
             }
            },
            "header": {
             "fill": {
              "color": "#C8D4E3"
             },
             "line": {
              "color": "white"
             }
            },
            "type": "table"
           }
          ]
         },
         "layout": {
          "annotationdefaults": {
           "arrowcolor": "#2a3f5f",
           "arrowhead": 0,
           "arrowwidth": 1
          },
          "autotypenumbers": "strict",
          "coloraxis": {
           "colorbar": {
            "outlinewidth": 0,
            "ticks": ""
           }
          },
          "colorscale": {
           "diverging": [
            [
             0,
             "#8e0152"
            ],
            [
             0.1,
             "#c51b7d"
            ],
            [
             0.2,
             "#de77ae"
            ],
            [
             0.3,
             "#f1b6da"
            ],
            [
             0.4,
             "#fde0ef"
            ],
            [
             0.5,
             "#f7f7f7"
            ],
            [
             0.6,
             "#e6f5d0"
            ],
            [
             0.7,
             "#b8e186"
            ],
            [
             0.8,
             "#7fbc41"
            ],
            [
             0.9,
             "#4d9221"
            ],
            [
             1,
             "#276419"
            ]
           ],
           "sequential": [
            [
             0,
             "#0d0887"
            ],
            [
             0.1111111111111111,
             "#46039f"
            ],
            [
             0.2222222222222222,
             "#7201a8"
            ],
            [
             0.3333333333333333,
             "#9c179e"
            ],
            [
             0.4444444444444444,
             "#bd3786"
            ],
            [
             0.5555555555555556,
             "#d8576b"
            ],
            [
             0.6666666666666666,
             "#ed7953"
            ],
            [
             0.7777777777777778,
             "#fb9f3a"
            ],
            [
             0.8888888888888888,
             "#fdca26"
            ],
            [
             1,
             "#f0f921"
            ]
           ],
           "sequentialminus": [
            [
             0,
             "#0d0887"
            ],
            [
             0.1111111111111111,
             "#46039f"
            ],
            [
             0.2222222222222222,
             "#7201a8"
            ],
            [
             0.3333333333333333,
             "#9c179e"
            ],
            [
             0.4444444444444444,
             "#bd3786"
            ],
            [
             0.5555555555555556,
             "#d8576b"
            ],
            [
             0.6666666666666666,
             "#ed7953"
            ],
            [
             0.7777777777777778,
             "#fb9f3a"
            ],
            [
             0.8888888888888888,
             "#fdca26"
            ],
            [
             1,
             "#f0f921"
            ]
           ]
          },
          "colorway": [
           "#636efa",
           "#EF553B",
           "#00cc96",
           "#ab63fa",
           "#FFA15A",
           "#19d3f3",
           "#FF6692",
           "#B6E880",
           "#FF97FF",
           "#FECB52"
          ],
          "font": {
           "color": "#2a3f5f"
          },
          "geo": {
           "bgcolor": "white",
           "lakecolor": "white",
           "landcolor": "#E5ECF6",
           "showlakes": true,
           "showland": true,
           "subunitcolor": "white"
          },
          "hoverlabel": {
           "align": "left"
          },
          "hovermode": "closest",
          "mapbox": {
           "style": "light"
          },
          "paper_bgcolor": "white",
          "plot_bgcolor": "#E5ECF6",
          "polar": {
           "angularaxis": {
            "gridcolor": "white",
            "linecolor": "white",
            "ticks": ""
           },
           "bgcolor": "#E5ECF6",
           "radialaxis": {
            "gridcolor": "white",
            "linecolor": "white",
            "ticks": ""
           }
          },
          "scene": {
           "xaxis": {
            "backgroundcolor": "#E5ECF6",
            "gridcolor": "white",
            "gridwidth": 2,
            "linecolor": "white",
            "showbackground": true,
            "ticks": "",
            "zerolinecolor": "white"
           },
           "yaxis": {
            "backgroundcolor": "#E5ECF6",
            "gridcolor": "white",
            "gridwidth": 2,
            "linecolor": "white",
            "showbackground": true,
            "ticks": "",
            "zerolinecolor": "white"
           },
           "zaxis": {
            "backgroundcolor": "#E5ECF6",
            "gridcolor": "white",
            "gridwidth": 2,
            "linecolor": "white",
            "showbackground": true,
            "ticks": "",
            "zerolinecolor": "white"
           }
          },
          "shapedefaults": {
           "line": {
            "color": "#2a3f5f"
           }
          },
          "ternary": {
           "aaxis": {
            "gridcolor": "white",
            "linecolor": "white",
            "ticks": ""
           },
           "baxis": {
            "gridcolor": "white",
            "linecolor": "white",
            "ticks": ""
           },
           "bgcolor": "#E5ECF6",
           "caxis": {
            "gridcolor": "white",
            "linecolor": "white",
            "ticks": ""
           }
          },
          "title": {
           "x": 0.05
          },
          "xaxis": {
           "automargin": true,
           "gridcolor": "white",
           "linecolor": "white",
           "ticks": "",
           "title": {
            "standoff": 15
           },
           "zerolinecolor": "white",
           "zerolinewidth": 2
          },
          "yaxis": {
           "automargin": true,
           "gridcolor": "white",
           "linecolor": "white",
           "ticks": "",
           "title": {
            "standoff": 15
           },
           "zerolinecolor": "white",
           "zerolinewidth": 2
          }
         }
        },
        "title": {
         "text": "Where do these companies come from?"
        },
        "width": 800,
        "xaxis": {
         "anchor": "y",
         "domain": [
          0,
          1
         ],
         "title": {
          "text": "Country"
         }
        },
        "yaxis": {
         "anchor": "x",
         "domain": [
          0,
          1
         ],
         "title": {
          "text": "Project count"
         }
        }
       }
      }
     },
     "metadata": {},
     "output_type": "display_data"
    }
   ],
   "source": [
    "# Check the distribution of projects by country\n",
    "fig = px.bar(df, x='country_of_company_hq', color='sector_type')\n",
    "fig.update_layout(\n",
    "    title = 'Where do these companies come from?', \n",
    "    xaxis = dict(title = 'Country'), \n",
    "    yaxis = dict(title = 'Project count'), \n",
    "    barmode = 'group', \n",
    "    paper_bgcolor = '#FFFFFF', \n",
    "    showlegend = True,\n",
    "    width = 800,\n",
    "    height = 500\n",
    ")"
   ]
  },
  {
   "cell_type": "code",
   "execution_count": 31,
   "metadata": {},
   "outputs": [
    {
     "data": {
      "text/plain": [
       "country_of_company_hq\n",
       "canada                    99\n",
       "brazil                    64\n",
       "bolivia                   62\n",
       "ecuador                   40\n",
       "spain                     39\n",
       "china                     32\n",
       "colombia                  24\n",
       "peru                      24\n",
       "chile                     22\n",
       "australia                 21\n",
       "usa                       17\n",
       "uk                        16\n",
       "argentina                 16\n",
       "russia                    15\n",
       "venezuela                 11\n",
       "france                     7\n",
       "suriname                   6\n",
       "italy                      6\n",
       "portugal                   5\n",
       "south_korea                5\n",
       "norway                     4\n",
       "singapore                  3\n",
       "taiwan                     2\n",
       "algeria                    2\n",
       "british_virgin_islands     2\n",
       "india                      1\n",
       "vietnam                    1\n",
       "japan                      1\n",
       "belarus                    1\n",
       "the_netherlands            1\n",
       "trinidad_and_tobago        1\n",
       "germany                    1\n",
       "french_guiana              1\n",
       "cayman_islands             1\n",
       "guyana                     1\n",
       "Name: count, dtype: int64"
      ]
     },
     "execution_count": 31,
     "metadata": {},
     "output_type": "execute_result"
    }
   ],
   "source": [
    "# Total number of projects per country of company HQ\n",
    "df['country_of_company_hq'].value_counts()"
   ]
  },
  {
   "cell_type": "code",
   "execution_count": 41,
   "metadata": {},
   "outputs": [
    {
     "data": {
      "application/vnd.plotly.v1+json": {
       "config": {
        "plotlyServerURL": "https://plot.ly"
       },
       "data": [
        {
         "alignmentgroup": "True",
         "hovertemplate": "country_of_company_hq=%{x}<br>project_count=%{y}<extra></extra>",
         "legendgroup": "brazil",
         "marker": {
          "color": "#636efa",
          "line": {
           "width": 0.01
          },
          "pattern": {
           "shape": ""
          }
         },
         "name": "brazil",
         "offsetgroup": "brazil",
         "orientation": "v",
         "showlegend": true,
         "textposition": "auto",
         "type": "bar",
         "x": [
          "brazil"
         ],
         "xaxis": "x",
         "y": [
          31
         ],
         "yaxis": "y"
        },
        {
         "alignmentgroup": "True",
         "hovertemplate": "country_of_company_hq=%{x}<br>project_count=%{y}<extra></extra>",
         "legendgroup": "peru",
         "marker": {
          "color": "#EF553B",
          "line": {
           "width": 0.01
          },
          "pattern": {
           "shape": ""
          }
         },
         "name": "peru",
         "offsetgroup": "peru",
         "orientation": "v",
         "showlegend": true,
         "textposition": "auto",
         "type": "bar",
         "x": [
          "peru"
         ],
         "xaxis": "x",
         "y": [
          13
         ],
         "yaxis": "y"
        },
        {
         "alignmentgroup": "True",
         "hovertemplate": "country_of_company_hq=%{x}<br>project_count=%{y}<extra></extra>",
         "legendgroup": "bolivia",
         "marker": {
          "color": "#00cc96",
          "line": {
           "width": 0.01
          },
          "pattern": {
           "shape": ""
          }
         },
         "name": "bolivia",
         "offsetgroup": "bolivia",
         "orientation": "v",
         "showlegend": true,
         "textposition": "auto",
         "type": "bar",
         "x": [
          "bolivia"
         ],
         "xaxis": "x",
         "y": [
          11
         ],
         "yaxis": "y"
        },
        {
         "alignmentgroup": "True",
         "hovertemplate": "country_of_company_hq=%{x}<br>project_count=%{y}<extra></extra>",
         "legendgroup": "ecuador",
         "marker": {
          "color": "#ab63fa",
          "line": {
           "width": 0.01
          },
          "pattern": {
           "shape": ""
          }
         },
         "name": "ecuador",
         "offsetgroup": "ecuador",
         "orientation": "v",
         "showlegend": true,
         "textposition": "auto",
         "type": "bar",
         "x": [
          "ecuador"
         ],
         "xaxis": "x",
         "y": [
          9
         ],
         "yaxis": "y"
        },
        {
         "alignmentgroup": "True",
         "hovertemplate": "country_of_company_hq=%{x}<br>project_count=%{y}<extra></extra>",
         "legendgroup": "china",
         "marker": {
          "color": "#FFA15A",
          "line": {
           "width": 0.01
          },
          "pattern": {
           "shape": ""
          }
         },
         "name": "china",
         "offsetgroup": "china",
         "orientation": "v",
         "showlegend": true,
         "textposition": "auto",
         "type": "bar",
         "x": [
          "china"
         ],
         "xaxis": "x",
         "y": [
          8
         ],
         "yaxis": "y"
        },
        {
         "alignmentgroup": "True",
         "hovertemplate": "country_of_company_hq=%{x}<br>project_count=%{y}<extra></extra>",
         "legendgroup": "italy",
         "marker": {
          "color": "#19d3f3",
          "line": {
           "width": 0.01
          },
          "pattern": {
           "shape": ""
          }
         },
         "name": "italy",
         "offsetgroup": "italy",
         "orientation": "v",
         "showlegend": true,
         "textposition": "auto",
         "type": "bar",
         "x": [
          "italy"
         ],
         "xaxis": "x",
         "y": [
          5
         ],
         "yaxis": "y"
        },
        {
         "alignmentgroup": "True",
         "hovertemplate": "country_of_company_hq=%{x}<br>project_count=%{y}<extra></extra>",
         "legendgroup": "spain",
         "marker": {
          "color": "#FF6692",
          "line": {
           "width": 0.01
          },
          "pattern": {
           "shape": ""
          }
         },
         "name": "spain",
         "offsetgroup": "spain",
         "orientation": "v",
         "showlegend": true,
         "textposition": "auto",
         "type": "bar",
         "x": [
          "spain"
         ],
         "xaxis": "x",
         "y": [
          4
         ],
         "yaxis": "y"
        },
        {
         "alignmentgroup": "True",
         "hovertemplate": "country_of_company_hq=%{x}<br>project_count=%{y}<extra></extra>",
         "legendgroup": "portugal",
         "marker": {
          "color": "#B6E880",
          "line": {
           "width": 0.01
          },
          "pattern": {
           "shape": ""
          }
         },
         "name": "portugal",
         "offsetgroup": "portugal",
         "orientation": "v",
         "showlegend": true,
         "textposition": "auto",
         "type": "bar",
         "x": [
          "portugal"
         ],
         "xaxis": "x",
         "y": [
          4
         ],
         "yaxis": "y"
        },
        {
         "alignmentgroup": "True",
         "hovertemplate": "country_of_company_hq=%{x}<br>project_count=%{y}<extra></extra>",
         "legendgroup": "venezuela",
         "marker": {
          "color": "#FF97FF",
          "line": {
           "width": 0.01
          },
          "pattern": {
           "shape": ""
          }
         },
         "name": "venezuela",
         "offsetgroup": "venezuela",
         "orientation": "v",
         "showlegend": true,
         "textposition": "auto",
         "type": "bar",
         "x": [
          "venezuela"
         ],
         "xaxis": "x",
         "y": [
          3
         ],
         "yaxis": "y"
        },
        {
         "alignmentgroup": "True",
         "hovertemplate": "country_of_company_hq=%{x}<br>project_count=%{y}<extra></extra>",
         "legendgroup": "france",
         "marker": {
          "color": "#FECB52",
          "line": {
           "width": 0.01
          },
          "pattern": {
           "shape": ""
          }
         },
         "name": "france",
         "offsetgroup": "france",
         "orientation": "v",
         "showlegend": true,
         "textposition": "auto",
         "type": "bar",
         "x": [
          "france"
         ],
         "xaxis": "x",
         "y": [
          3
         ],
         "yaxis": "y"
        },
        {
         "alignmentgroup": "True",
         "hovertemplate": "country_of_company_hq=%{x}<br>project_count=%{y}<extra></extra>",
         "legendgroup": "norway",
         "marker": {
          "color": "#636efa",
          "line": {
           "width": 0.01
          },
          "pattern": {
           "shape": ""
          }
         },
         "name": "norway",
         "offsetgroup": "norway",
         "orientation": "v",
         "showlegend": true,
         "textposition": "auto",
         "type": "bar",
         "x": [
          "norway"
         ],
         "xaxis": "x",
         "y": [
          2
         ],
         "yaxis": "y"
        },
        {
         "alignmentgroup": "True",
         "hovertemplate": "country_of_company_hq=%{x}<br>project_count=%{y}<extra></extra>",
         "legendgroup": "germany",
         "marker": {
          "color": "#EF553B",
          "line": {
           "width": 0.01
          },
          "pattern": {
           "shape": ""
          }
         },
         "name": "germany",
         "offsetgroup": "germany",
         "orientation": "v",
         "showlegend": true,
         "textposition": "auto",
         "type": "bar",
         "x": [
          "germany"
         ],
         "xaxis": "x",
         "y": [
          1
         ],
         "yaxis": "y"
        },
        {
         "alignmentgroup": "True",
         "hovertemplate": "country_of_company_hq=%{x}<br>project_count=%{y}<extra></extra>",
         "legendgroup": "colombia",
         "marker": {
          "color": "#00cc96",
          "line": {
           "width": 0.01
          },
          "pattern": {
           "shape": ""
          }
         },
         "name": "colombia",
         "offsetgroup": "colombia",
         "orientation": "v",
         "showlegend": true,
         "textposition": "auto",
         "type": "bar",
         "x": [
          "colombia"
         ],
         "xaxis": "x",
         "y": [
          1
         ],
         "yaxis": "y"
        },
        {
         "alignmentgroup": "True",
         "hovertemplate": "country_of_company_hq=%{x}<br>project_count=%{y}<extra></extra>",
         "legendgroup": "south_korea",
         "marker": {
          "color": "#ab63fa",
          "line": {
           "width": 0.01
          },
          "pattern": {
           "shape": ""
          }
         },
         "name": "south_korea",
         "offsetgroup": "south_korea",
         "orientation": "v",
         "showlegend": true,
         "textposition": "auto",
         "type": "bar",
         "x": [
          "south_korea"
         ],
         "xaxis": "x",
         "y": [
          1
         ],
         "yaxis": "y"
        },
        {
         "alignmentgroup": "True",
         "hovertemplate": "country_of_company_hq=%{x}<br>project_count=%{y}<extra></extra>",
         "legendgroup": "canada",
         "marker": {
          "color": "#FFA15A",
          "line": {
           "width": 0.01
          },
          "pattern": {
           "shape": ""
          }
         },
         "name": "canada",
         "offsetgroup": "canada",
         "orientation": "v",
         "showlegend": true,
         "textposition": "auto",
         "type": "bar",
         "x": [
          "canada"
         ],
         "xaxis": "x",
         "y": [
          1
         ],
         "yaxis": "y"
        },
        {
         "alignmentgroup": "True",
         "hovertemplate": "country_of_company_hq=%{x}<br>project_count=%{y}<extra></extra>",
         "legendgroup": "suriname",
         "marker": {
          "color": "#19d3f3",
          "line": {
           "width": 0.01
          },
          "pattern": {
           "shape": ""
          }
         },
         "name": "suriname",
         "offsetgroup": "suriname",
         "orientation": "v",
         "showlegend": true,
         "textposition": "auto",
         "type": "bar",
         "x": [
          "suriname"
         ],
         "xaxis": "x",
         "y": [
          1
         ],
         "yaxis": "y"
        },
        {
         "alignmentgroup": "True",
         "hovertemplate": "country_of_company_hq=%{x}<br>project_count=%{y}<extra></extra>",
         "legendgroup": "usa",
         "marker": {
          "color": "#FF6692",
          "line": {
           "width": 0.01
          },
          "pattern": {
           "shape": ""
          }
         },
         "name": "usa",
         "offsetgroup": "usa",
         "orientation": "v",
         "showlegend": true,
         "textposition": "auto",
         "type": "bar",
         "x": [
          "usa"
         ],
         "xaxis": "x",
         "y": [
          1
         ],
         "yaxis": "y"
        },
        {
         "alignmentgroup": "True",
         "hovertemplate": "country_of_company_hq=%{x}<br>project_count=%{y}<extra></extra>",
         "legendgroup": "japan",
         "marker": {
          "color": "#B6E880",
          "line": {
           "width": 0.01
          },
          "pattern": {
           "shape": ""
          }
         },
         "name": "japan",
         "offsetgroup": "japan",
         "orientation": "v",
         "showlegend": true,
         "textposition": "auto",
         "type": "bar",
         "x": [
          "japan"
         ],
         "xaxis": "x",
         "y": [
          1
         ],
         "yaxis": "y"
        }
       ],
       "layout": {
        "bargap": 0.2,
        "barmode": "relative",
        "height": 400,
        "legend": {
         "title": {
          "text": "country_of_company_hq"
         },
         "tracegroupgap": 0
        },
        "margin": {
         "t": 60
        },
        "paper_bgcolor": "#FFFFFF",
        "showlegend": false,
        "template": {
         "data": {
          "bar": [
           {
            "error_x": {
             "color": "#2a3f5f"
            },
            "error_y": {
             "color": "#2a3f5f"
            },
            "marker": {
             "line": {
              "color": "#E5ECF6",
              "width": 0.5
             },
             "pattern": {
              "fillmode": "overlay",
              "size": 10,
              "solidity": 0.2
             }
            },
            "type": "bar"
           }
          ],
          "barpolar": [
           {
            "marker": {
             "line": {
              "color": "#E5ECF6",
              "width": 0.5
             },
             "pattern": {
              "fillmode": "overlay",
              "size": 10,
              "solidity": 0.2
             }
            },
            "type": "barpolar"
           }
          ],
          "carpet": [
           {
            "aaxis": {
             "endlinecolor": "#2a3f5f",
             "gridcolor": "white",
             "linecolor": "white",
             "minorgridcolor": "white",
             "startlinecolor": "#2a3f5f"
            },
            "baxis": {
             "endlinecolor": "#2a3f5f",
             "gridcolor": "white",
             "linecolor": "white",
             "minorgridcolor": "white",
             "startlinecolor": "#2a3f5f"
            },
            "type": "carpet"
           }
          ],
          "choropleth": [
           {
            "colorbar": {
             "outlinewidth": 0,
             "ticks": ""
            },
            "type": "choropleth"
           }
          ],
          "contour": [
           {
            "colorbar": {
             "outlinewidth": 0,
             "ticks": ""
            },
            "colorscale": [
             [
              0,
              "#0d0887"
             ],
             [
              0.1111111111111111,
              "#46039f"
             ],
             [
              0.2222222222222222,
              "#7201a8"
             ],
             [
              0.3333333333333333,
              "#9c179e"
             ],
             [
              0.4444444444444444,
              "#bd3786"
             ],
             [
              0.5555555555555556,
              "#d8576b"
             ],
             [
              0.6666666666666666,
              "#ed7953"
             ],
             [
              0.7777777777777778,
              "#fb9f3a"
             ],
             [
              0.8888888888888888,
              "#fdca26"
             ],
             [
              1,
              "#f0f921"
             ]
            ],
            "type": "contour"
           }
          ],
          "contourcarpet": [
           {
            "colorbar": {
             "outlinewidth": 0,
             "ticks": ""
            },
            "type": "contourcarpet"
           }
          ],
          "heatmap": [
           {
            "colorbar": {
             "outlinewidth": 0,
             "ticks": ""
            },
            "colorscale": [
             [
              0,
              "#0d0887"
             ],
             [
              0.1111111111111111,
              "#46039f"
             ],
             [
              0.2222222222222222,
              "#7201a8"
             ],
             [
              0.3333333333333333,
              "#9c179e"
             ],
             [
              0.4444444444444444,
              "#bd3786"
             ],
             [
              0.5555555555555556,
              "#d8576b"
             ],
             [
              0.6666666666666666,
              "#ed7953"
             ],
             [
              0.7777777777777778,
              "#fb9f3a"
             ],
             [
              0.8888888888888888,
              "#fdca26"
             ],
             [
              1,
              "#f0f921"
             ]
            ],
            "type": "heatmap"
           }
          ],
          "heatmapgl": [
           {
            "colorbar": {
             "outlinewidth": 0,
             "ticks": ""
            },
            "colorscale": [
             [
              0,
              "#0d0887"
             ],
             [
              0.1111111111111111,
              "#46039f"
             ],
             [
              0.2222222222222222,
              "#7201a8"
             ],
             [
              0.3333333333333333,
              "#9c179e"
             ],
             [
              0.4444444444444444,
              "#bd3786"
             ],
             [
              0.5555555555555556,
              "#d8576b"
             ],
             [
              0.6666666666666666,
              "#ed7953"
             ],
             [
              0.7777777777777778,
              "#fb9f3a"
             ],
             [
              0.8888888888888888,
              "#fdca26"
             ],
             [
              1,
              "#f0f921"
             ]
            ],
            "type": "heatmapgl"
           }
          ],
          "histogram": [
           {
            "marker": {
             "pattern": {
              "fillmode": "overlay",
              "size": 10,
              "solidity": 0.2
             }
            },
            "type": "histogram"
           }
          ],
          "histogram2d": [
           {
            "colorbar": {
             "outlinewidth": 0,
             "ticks": ""
            },
            "colorscale": [
             [
              0,
              "#0d0887"
             ],
             [
              0.1111111111111111,
              "#46039f"
             ],
             [
              0.2222222222222222,
              "#7201a8"
             ],
             [
              0.3333333333333333,
              "#9c179e"
             ],
             [
              0.4444444444444444,
              "#bd3786"
             ],
             [
              0.5555555555555556,
              "#d8576b"
             ],
             [
              0.6666666666666666,
              "#ed7953"
             ],
             [
              0.7777777777777778,
              "#fb9f3a"
             ],
             [
              0.8888888888888888,
              "#fdca26"
             ],
             [
              1,
              "#f0f921"
             ]
            ],
            "type": "histogram2d"
           }
          ],
          "histogram2dcontour": [
           {
            "colorbar": {
             "outlinewidth": 0,
             "ticks": ""
            },
            "colorscale": [
             [
              0,
              "#0d0887"
             ],
             [
              0.1111111111111111,
              "#46039f"
             ],
             [
              0.2222222222222222,
              "#7201a8"
             ],
             [
              0.3333333333333333,
              "#9c179e"
             ],
             [
              0.4444444444444444,
              "#bd3786"
             ],
             [
              0.5555555555555556,
              "#d8576b"
             ],
             [
              0.6666666666666666,
              "#ed7953"
             ],
             [
              0.7777777777777778,
              "#fb9f3a"
             ],
             [
              0.8888888888888888,
              "#fdca26"
             ],
             [
              1,
              "#f0f921"
             ]
            ],
            "type": "histogram2dcontour"
           }
          ],
          "mesh3d": [
           {
            "colorbar": {
             "outlinewidth": 0,
             "ticks": ""
            },
            "type": "mesh3d"
           }
          ],
          "parcoords": [
           {
            "line": {
             "colorbar": {
              "outlinewidth": 0,
              "ticks": ""
             }
            },
            "type": "parcoords"
           }
          ],
          "pie": [
           {
            "automargin": true,
            "type": "pie"
           }
          ],
          "scatter": [
           {
            "fillpattern": {
             "fillmode": "overlay",
             "size": 10,
             "solidity": 0.2
            },
            "type": "scatter"
           }
          ],
          "scatter3d": [
           {
            "line": {
             "colorbar": {
              "outlinewidth": 0,
              "ticks": ""
             }
            },
            "marker": {
             "colorbar": {
              "outlinewidth": 0,
              "ticks": ""
             }
            },
            "type": "scatter3d"
           }
          ],
          "scattercarpet": [
           {
            "marker": {
             "colorbar": {
              "outlinewidth": 0,
              "ticks": ""
             }
            },
            "type": "scattercarpet"
           }
          ],
          "scattergeo": [
           {
            "marker": {
             "colorbar": {
              "outlinewidth": 0,
              "ticks": ""
             }
            },
            "type": "scattergeo"
           }
          ],
          "scattergl": [
           {
            "marker": {
             "colorbar": {
              "outlinewidth": 0,
              "ticks": ""
             }
            },
            "type": "scattergl"
           }
          ],
          "scattermapbox": [
           {
            "marker": {
             "colorbar": {
              "outlinewidth": 0,
              "ticks": ""
             }
            },
            "type": "scattermapbox"
           }
          ],
          "scatterpolar": [
           {
            "marker": {
             "colorbar": {
              "outlinewidth": 0,
              "ticks": ""
             }
            },
            "type": "scatterpolar"
           }
          ],
          "scatterpolargl": [
           {
            "marker": {
             "colorbar": {
              "outlinewidth": 0,
              "ticks": ""
             }
            },
            "type": "scatterpolargl"
           }
          ],
          "scatterternary": [
           {
            "marker": {
             "colorbar": {
              "outlinewidth": 0,
              "ticks": ""
             }
            },
            "type": "scatterternary"
           }
          ],
          "surface": [
           {
            "colorbar": {
             "outlinewidth": 0,
             "ticks": ""
            },
            "colorscale": [
             [
              0,
              "#0d0887"
             ],
             [
              0.1111111111111111,
              "#46039f"
             ],
             [
              0.2222222222222222,
              "#7201a8"
             ],
             [
              0.3333333333333333,
              "#9c179e"
             ],
             [
              0.4444444444444444,
              "#bd3786"
             ],
             [
              0.5555555555555556,
              "#d8576b"
             ],
             [
              0.6666666666666666,
              "#ed7953"
             ],
             [
              0.7777777777777778,
              "#fb9f3a"
             ],
             [
              0.8888888888888888,
              "#fdca26"
             ],
             [
              1,
              "#f0f921"
             ]
            ],
            "type": "surface"
           }
          ],
          "table": [
           {
            "cells": {
             "fill": {
              "color": "#EBF0F8"
             },
             "line": {
              "color": "white"
             }
            },
            "header": {
             "fill": {
              "color": "#C8D4E3"
             },
             "line": {
              "color": "white"
             }
            },
            "type": "table"
           }
          ]
         },
         "layout": {
          "annotationdefaults": {
           "arrowcolor": "#2a3f5f",
           "arrowhead": 0,
           "arrowwidth": 1
          },
          "autotypenumbers": "strict",
          "coloraxis": {
           "colorbar": {
            "outlinewidth": 0,
            "ticks": ""
           }
          },
          "colorscale": {
           "diverging": [
            [
             0,
             "#8e0152"
            ],
            [
             0.1,
             "#c51b7d"
            ],
            [
             0.2,
             "#de77ae"
            ],
            [
             0.3,
             "#f1b6da"
            ],
            [
             0.4,
             "#fde0ef"
            ],
            [
             0.5,
             "#f7f7f7"
            ],
            [
             0.6,
             "#e6f5d0"
            ],
            [
             0.7,
             "#b8e186"
            ],
            [
             0.8,
             "#7fbc41"
            ],
            [
             0.9,
             "#4d9221"
            ],
            [
             1,
             "#276419"
            ]
           ],
           "sequential": [
            [
             0,
             "#0d0887"
            ],
            [
             0.1111111111111111,
             "#46039f"
            ],
            [
             0.2222222222222222,
             "#7201a8"
            ],
            [
             0.3333333333333333,
             "#9c179e"
            ],
            [
             0.4444444444444444,
             "#bd3786"
            ],
            [
             0.5555555555555556,
             "#d8576b"
            ],
            [
             0.6666666666666666,
             "#ed7953"
            ],
            [
             0.7777777777777778,
             "#fb9f3a"
            ],
            [
             0.8888888888888888,
             "#fdca26"
            ],
            [
             1,
             "#f0f921"
            ]
           ],
           "sequentialminus": [
            [
             0,
             "#0d0887"
            ],
            [
             0.1111111111111111,
             "#46039f"
            ],
            [
             0.2222222222222222,
             "#7201a8"
            ],
            [
             0.3333333333333333,
             "#9c179e"
            ],
            [
             0.4444444444444444,
             "#bd3786"
            ],
            [
             0.5555555555555556,
             "#d8576b"
            ],
            [
             0.6666666666666666,
             "#ed7953"
            ],
            [
             0.7777777777777778,
             "#fb9f3a"
            ],
            [
             0.8888888888888888,
             "#fdca26"
            ],
            [
             1,
             "#f0f921"
            ]
           ]
          },
          "colorway": [
           "#636efa",
           "#EF553B",
           "#00cc96",
           "#ab63fa",
           "#FFA15A",
           "#19d3f3",
           "#FF6692",
           "#B6E880",
           "#FF97FF",
           "#FECB52"
          ],
          "font": {
           "color": "#2a3f5f"
          },
          "geo": {
           "bgcolor": "white",
           "lakecolor": "white",
           "landcolor": "#E5ECF6",
           "showlakes": true,
           "showland": true,
           "subunitcolor": "white"
          },
          "hoverlabel": {
           "align": "left"
          },
          "hovermode": "closest",
          "mapbox": {
           "style": "light"
          },
          "paper_bgcolor": "white",
          "plot_bgcolor": "#E5ECF6",
          "polar": {
           "angularaxis": {
            "gridcolor": "white",
            "linecolor": "white",
            "ticks": ""
           },
           "bgcolor": "#E5ECF6",
           "radialaxis": {
            "gridcolor": "white",
            "linecolor": "white",
            "ticks": ""
           }
          },
          "scene": {
           "xaxis": {
            "backgroundcolor": "#E5ECF6",
            "gridcolor": "white",
            "gridwidth": 2,
            "linecolor": "white",
            "showbackground": true,
            "ticks": "",
            "zerolinecolor": "white"
           },
           "yaxis": {
            "backgroundcolor": "#E5ECF6",
            "gridcolor": "white",
            "gridwidth": 2,
            "linecolor": "white",
            "showbackground": true,
            "ticks": "",
            "zerolinecolor": "white"
           },
           "zaxis": {
            "backgroundcolor": "#E5ECF6",
            "gridcolor": "white",
            "gridwidth": 2,
            "linecolor": "white",
            "showbackground": true,
            "ticks": "",
            "zerolinecolor": "white"
           }
          },
          "shapedefaults": {
           "line": {
            "color": "#2a3f5f"
           }
          },
          "ternary": {
           "aaxis": {
            "gridcolor": "white",
            "linecolor": "white",
            "ticks": ""
           },
           "baxis": {
            "gridcolor": "white",
            "linecolor": "white",
            "ticks": ""
           },
           "bgcolor": "#E5ECF6",
           "caxis": {
            "gridcolor": "white",
            "linecolor": "white",
            "ticks": ""
           }
          },
          "title": {
           "x": 0.05
          },
          "xaxis": {
           "automargin": true,
           "gridcolor": "white",
           "linecolor": "white",
           "ticks": "",
           "title": {
            "standoff": 15
           },
           "zerolinecolor": "white",
           "zerolinewidth": 2
          },
          "yaxis": {
           "automargin": true,
           "gridcolor": "white",
           "linecolor": "white",
           "ticks": "",
           "title": {
            "standoff": 15
           },
           "zerolinecolor": "white",
           "zerolinewidth": 2
          }
         }
        },
        "title": {
         "text": "Where do these companies come from? (hydropower sector)"
        },
        "width": 600,
        "xaxis": {
         "anchor": "y",
         "categoryarray": [
          "brazil",
          "peru",
          "bolivia",
          "ecuador",
          "china",
          "italy",
          "spain",
          "portugal",
          "venezuela",
          "france",
          "norway",
          "germany",
          "colombia",
          "south_korea",
          "canada",
          "suriname",
          "usa",
          "japan"
         ],
         "categoryorder": "array",
         "domain": [
          0,
          1
         ],
         "title": {
          "text": "Country of company HQ"
         }
        },
        "yaxis": {
         "anchor": "x",
         "domain": [
          0,
          1
         ],
         "title": {
          "text": "Project count"
         }
        }
       }
      }
     },
     "metadata": {},
     "output_type": "display_data"
    },
    {
     "data": {
      "application/vnd.plotly.v1+json": {
       "config": {
        "plotlyServerURL": "https://plot.ly"
       },
       "data": [
        {
         "alignmentgroup": "True",
         "hovertemplate": "country_of_company_hq=%{x}<br>project_count=%{y}<extra></extra>",
         "legendgroup": "canada",
         "marker": {
          "color": "#636efa",
          "line": {
           "width": 0.01
          },
          "pattern": {
           "shape": ""
          }
         },
         "name": "canada",
         "offsetgroup": "canada",
         "orientation": "v",
         "showlegend": true,
         "textposition": "auto",
         "type": "bar",
         "x": [
          "canada"
         ],
         "xaxis": "x",
         "y": [
          60
         ],
         "yaxis": "y"
        },
        {
         "alignmentgroup": "True",
         "hovertemplate": "country_of_company_hq=%{x}<br>project_count=%{y}<extra></extra>",
         "legendgroup": "australia",
         "marker": {
          "color": "#EF553B",
          "line": {
           "width": 0.01
          },
          "pattern": {
           "shape": ""
          }
         },
         "name": "australia",
         "offsetgroup": "australia",
         "orientation": "v",
         "showlegend": true,
         "textposition": "auto",
         "type": "bar",
         "x": [
          "australia"
         ],
         "xaxis": "x",
         "y": [
          21
         ],
         "yaxis": "y"
        },
        {
         "alignmentgroup": "True",
         "hovertemplate": "country_of_company_hq=%{x}<br>project_count=%{y}<extra></extra>",
         "legendgroup": "brazil",
         "marker": {
          "color": "#00cc96",
          "line": {
           "width": 0.01
          },
          "pattern": {
           "shape": ""
          }
         },
         "name": "brazil",
         "offsetgroup": "brazil",
         "orientation": "v",
         "showlegend": true,
         "textposition": "auto",
         "type": "bar",
         "x": [
          "brazil"
         ],
         "xaxis": "x",
         "y": [
          16
         ],
         "yaxis": "y"
        },
        {
         "alignmentgroup": "True",
         "hovertemplate": "country_of_company_hq=%{x}<br>project_count=%{y}<extra></extra>",
         "legendgroup": "uk",
         "marker": {
          "color": "#ab63fa",
          "line": {
           "width": 0.01
          },
          "pattern": {
           "shape": ""
          }
         },
         "name": "uk",
         "offsetgroup": "uk",
         "orientation": "v",
         "showlegend": true,
         "textposition": "auto",
         "type": "bar",
         "x": [
          "uk"
         ],
         "xaxis": "x",
         "y": [
          12
         ],
         "yaxis": "y"
        },
        {
         "alignmentgroup": "True",
         "hovertemplate": "country_of_company_hq=%{x}<br>project_count=%{y}<extra></extra>",
         "legendgroup": "china",
         "marker": {
          "color": "#FFA15A",
          "line": {
           "width": 0.01
          },
          "pattern": {
           "shape": ""
          }
         },
         "name": "china",
         "offsetgroup": "china",
         "orientation": "v",
         "showlegend": true,
         "textposition": "auto",
         "type": "bar",
         "x": [
          "china"
         ],
         "xaxis": "x",
         "y": [
          9
         ],
         "yaxis": "y"
        },
        {
         "alignmentgroup": "True",
         "hovertemplate": "country_of_company_hq=%{x}<br>project_count=%{y}<extra></extra>",
         "legendgroup": "usa",
         "marker": {
          "color": "#19d3f3",
          "line": {
           "width": 0.01
          },
          "pattern": {
           "shape": ""
          }
         },
         "name": "usa",
         "offsetgroup": "usa",
         "orientation": "v",
         "showlegend": true,
         "textposition": "auto",
         "type": "bar",
         "x": [
          "usa"
         ],
         "xaxis": "x",
         "y": [
          7
         ],
         "yaxis": "y"
        },
        {
         "alignmentgroup": "True",
         "hovertemplate": "country_of_company_hq=%{x}<br>project_count=%{y}<extra></extra>",
         "legendgroup": "peru",
         "marker": {
          "color": "#FF6692",
          "line": {
           "width": 0.01
          },
          "pattern": {
           "shape": ""
          }
         },
         "name": "peru",
         "offsetgroup": "peru",
         "orientation": "v",
         "showlegend": true,
         "textposition": "auto",
         "type": "bar",
         "x": [
          "peru"
         ],
         "xaxis": "x",
         "y": [
          7
         ],
         "yaxis": "y"
        },
        {
         "alignmentgroup": "True",
         "hovertemplate": "country_of_company_hq=%{x}<br>project_count=%{y}<extra></extra>",
         "legendgroup": "france",
         "marker": {
          "color": "#B6E880",
          "line": {
           "width": 0.01
          },
          "pattern": {
           "shape": ""
          }
         },
         "name": "france",
         "offsetgroup": "france",
         "orientation": "v",
         "showlegend": true,
         "textposition": "auto",
         "type": "bar",
         "x": [
          "france"
         ],
         "xaxis": "x",
         "y": [
          4
         ],
         "yaxis": "y"
        },
        {
         "alignmentgroup": "True",
         "hovertemplate": "country_of_company_hq=%{x}<br>project_count=%{y}<extra></extra>",
         "legendgroup": "venezuela",
         "marker": {
          "color": "#FF97FF",
          "line": {
           "width": 0.01
          },
          "pattern": {
           "shape": ""
          }
         },
         "name": "venezuela",
         "offsetgroup": "venezuela",
         "orientation": "v",
         "showlegend": true,
         "textposition": "auto",
         "type": "bar",
         "x": [
          "venezuela"
         ],
         "xaxis": "x",
         "y": [
          3
         ],
         "yaxis": "y"
        },
        {
         "alignmentgroup": "True",
         "hovertemplate": "country_of_company_hq=%{x}<br>project_count=%{y}<extra></extra>",
         "legendgroup": "norway",
         "marker": {
          "color": "#FECB52",
          "line": {
           "width": 0.01
          },
          "pattern": {
           "shape": ""
          }
         },
         "name": "norway",
         "offsetgroup": "norway",
         "orientation": "v",
         "showlegend": true,
         "textposition": "auto",
         "type": "bar",
         "x": [
          "norway"
         ],
         "xaxis": "x",
         "y": [
          2
         ],
         "yaxis": "y"
        },
        {
         "alignmentgroup": "True",
         "hovertemplate": "country_of_company_hq=%{x}<br>project_count=%{y}<extra></extra>",
         "legendgroup": "suriname",
         "marker": {
          "color": "#636efa",
          "line": {
           "width": 0.01
          },
          "pattern": {
           "shape": ""
          }
         },
         "name": "suriname",
         "offsetgroup": "suriname",
         "orientation": "v",
         "showlegend": true,
         "textposition": "auto",
         "type": "bar",
         "x": [
          "suriname"
         ],
         "xaxis": "x",
         "y": [
          2
         ],
         "yaxis": "y"
        },
        {
         "alignmentgroup": "True",
         "hovertemplate": "country_of_company_hq=%{x}<br>project_count=%{y}<extra></extra>",
         "legendgroup": "british_virgin_islands",
         "marker": {
          "color": "#EF553B",
          "line": {
           "width": 0.01
          },
          "pattern": {
           "shape": ""
          }
         },
         "name": "british_virgin_islands",
         "offsetgroup": "british_virgin_islands",
         "orientation": "v",
         "showlegend": true,
         "textposition": "auto",
         "type": "bar",
         "x": [
          "british_virgin_islands"
         ],
         "xaxis": "x",
         "y": [
          2
         ],
         "yaxis": "y"
        },
        {
         "alignmentgroup": "True",
         "hovertemplate": "country_of_company_hq=%{x}<br>project_count=%{y}<extra></extra>",
         "legendgroup": "ecuador",
         "marker": {
          "color": "#00cc96",
          "line": {
           "width": 0.01
          },
          "pattern": {
           "shape": ""
          }
         },
         "name": "ecuador",
         "offsetgroup": "ecuador",
         "orientation": "v",
         "showlegend": true,
         "textposition": "auto",
         "type": "bar",
         "x": [
          "ecuador"
         ],
         "xaxis": "x",
         "y": [
          1
         ],
         "yaxis": "y"
        },
        {
         "alignmentgroup": "True",
         "hovertemplate": "country_of_company_hq=%{x}<br>project_count=%{y}<extra></extra>",
         "legendgroup": "bolivia",
         "marker": {
          "color": "#ab63fa",
          "line": {
           "width": 0.01
          },
          "pattern": {
           "shape": ""
          }
         },
         "name": "bolivia",
         "offsetgroup": "bolivia",
         "orientation": "v",
         "showlegend": true,
         "textposition": "auto",
         "type": "bar",
         "x": [
          "bolivia"
         ],
         "xaxis": "x",
         "y": [
          1
         ],
         "yaxis": "y"
        },
        {
         "alignmentgroup": "True",
         "hovertemplate": "country_of_company_hq=%{x}<br>project_count=%{y}<extra></extra>",
         "legendgroup": "french_guiana",
         "marker": {
          "color": "#FFA15A",
          "line": {
           "width": 0.01
          },
          "pattern": {
           "shape": ""
          }
         },
         "name": "french_guiana",
         "offsetgroup": "french_guiana",
         "orientation": "v",
         "showlegend": true,
         "textposition": "auto",
         "type": "bar",
         "x": [
          "french_guiana"
         ],
         "xaxis": "x",
         "y": [
          1
         ],
         "yaxis": "y"
        },
        {
         "alignmentgroup": "True",
         "hovertemplate": "country_of_company_hq=%{x}<br>project_count=%{y}<extra></extra>",
         "legendgroup": "guyana",
         "marker": {
          "color": "#19d3f3",
          "line": {
           "width": 0.01
          },
          "pattern": {
           "shape": ""
          }
         },
         "name": "guyana",
         "offsetgroup": "guyana",
         "orientation": "v",
         "showlegend": true,
         "textposition": "auto",
         "type": "bar",
         "x": [
          "guyana"
         ],
         "xaxis": "x",
         "y": [
          1
         ],
         "yaxis": "y"
        },
        {
         "alignmentgroup": "True",
         "hovertemplate": "country_of_company_hq=%{x}<br>project_count=%{y}<extra></extra>",
         "legendgroup": "chile",
         "marker": {
          "color": "#FF6692",
          "line": {
           "width": 0.01
          },
          "pattern": {
           "shape": ""
          }
         },
         "name": "chile",
         "offsetgroup": "chile",
         "orientation": "v",
         "showlegend": true,
         "textposition": "auto",
         "type": "bar",
         "x": [
          "chile"
         ],
         "xaxis": "x",
         "y": [
          1
         ],
         "yaxis": "y"
        },
        {
         "alignmentgroup": "True",
         "hovertemplate": "country_of_company_hq=%{x}<br>project_count=%{y}<extra></extra>",
         "legendgroup": "russia",
         "marker": {
          "color": "#B6E880",
          "line": {
           "width": 0.01
          },
          "pattern": {
           "shape": ""
          }
         },
         "name": "russia",
         "offsetgroup": "russia",
         "orientation": "v",
         "showlegend": true,
         "textposition": "auto",
         "type": "bar",
         "x": [
          "russia"
         ],
         "xaxis": "x",
         "y": [
          1
         ],
         "yaxis": "y"
        },
        {
         "alignmentgroup": "True",
         "hovertemplate": "country_of_company_hq=%{x}<br>project_count=%{y}<extra></extra>",
         "legendgroup": "cayman_islands",
         "marker": {
          "color": "#FF97FF",
          "line": {
           "width": 0.01
          },
          "pattern": {
           "shape": ""
          }
         },
         "name": "cayman_islands",
         "offsetgroup": "cayman_islands",
         "orientation": "v",
         "showlegend": true,
         "textposition": "auto",
         "type": "bar",
         "x": [
          "cayman_islands"
         ],
         "xaxis": "x",
         "y": [
          1
         ],
         "yaxis": "y"
        }
       ],
       "layout": {
        "bargap": 0.2,
        "barmode": "relative",
        "height": 400,
        "legend": {
         "title": {
          "text": "country_of_company_hq"
         },
         "tracegroupgap": 0
        },
        "margin": {
         "t": 60
        },
        "paper_bgcolor": "#FFFFFF",
        "showlegend": false,
        "template": {
         "data": {
          "bar": [
           {
            "error_x": {
             "color": "#2a3f5f"
            },
            "error_y": {
             "color": "#2a3f5f"
            },
            "marker": {
             "line": {
              "color": "#E5ECF6",
              "width": 0.5
             },
             "pattern": {
              "fillmode": "overlay",
              "size": 10,
              "solidity": 0.2
             }
            },
            "type": "bar"
           }
          ],
          "barpolar": [
           {
            "marker": {
             "line": {
              "color": "#E5ECF6",
              "width": 0.5
             },
             "pattern": {
              "fillmode": "overlay",
              "size": 10,
              "solidity": 0.2
             }
            },
            "type": "barpolar"
           }
          ],
          "carpet": [
           {
            "aaxis": {
             "endlinecolor": "#2a3f5f",
             "gridcolor": "white",
             "linecolor": "white",
             "minorgridcolor": "white",
             "startlinecolor": "#2a3f5f"
            },
            "baxis": {
             "endlinecolor": "#2a3f5f",
             "gridcolor": "white",
             "linecolor": "white",
             "minorgridcolor": "white",
             "startlinecolor": "#2a3f5f"
            },
            "type": "carpet"
           }
          ],
          "choropleth": [
           {
            "colorbar": {
             "outlinewidth": 0,
             "ticks": ""
            },
            "type": "choropleth"
           }
          ],
          "contour": [
           {
            "colorbar": {
             "outlinewidth": 0,
             "ticks": ""
            },
            "colorscale": [
             [
              0,
              "#0d0887"
             ],
             [
              0.1111111111111111,
              "#46039f"
             ],
             [
              0.2222222222222222,
              "#7201a8"
             ],
             [
              0.3333333333333333,
              "#9c179e"
             ],
             [
              0.4444444444444444,
              "#bd3786"
             ],
             [
              0.5555555555555556,
              "#d8576b"
             ],
             [
              0.6666666666666666,
              "#ed7953"
             ],
             [
              0.7777777777777778,
              "#fb9f3a"
             ],
             [
              0.8888888888888888,
              "#fdca26"
             ],
             [
              1,
              "#f0f921"
             ]
            ],
            "type": "contour"
           }
          ],
          "contourcarpet": [
           {
            "colorbar": {
             "outlinewidth": 0,
             "ticks": ""
            },
            "type": "contourcarpet"
           }
          ],
          "heatmap": [
           {
            "colorbar": {
             "outlinewidth": 0,
             "ticks": ""
            },
            "colorscale": [
             [
              0,
              "#0d0887"
             ],
             [
              0.1111111111111111,
              "#46039f"
             ],
             [
              0.2222222222222222,
              "#7201a8"
             ],
             [
              0.3333333333333333,
              "#9c179e"
             ],
             [
              0.4444444444444444,
              "#bd3786"
             ],
             [
              0.5555555555555556,
              "#d8576b"
             ],
             [
              0.6666666666666666,
              "#ed7953"
             ],
             [
              0.7777777777777778,
              "#fb9f3a"
             ],
             [
              0.8888888888888888,
              "#fdca26"
             ],
             [
              1,
              "#f0f921"
             ]
            ],
            "type": "heatmap"
           }
          ],
          "heatmapgl": [
           {
            "colorbar": {
             "outlinewidth": 0,
             "ticks": ""
            },
            "colorscale": [
             [
              0,
              "#0d0887"
             ],
             [
              0.1111111111111111,
              "#46039f"
             ],
             [
              0.2222222222222222,
              "#7201a8"
             ],
             [
              0.3333333333333333,
              "#9c179e"
             ],
             [
              0.4444444444444444,
              "#bd3786"
             ],
             [
              0.5555555555555556,
              "#d8576b"
             ],
             [
              0.6666666666666666,
              "#ed7953"
             ],
             [
              0.7777777777777778,
              "#fb9f3a"
             ],
             [
              0.8888888888888888,
              "#fdca26"
             ],
             [
              1,
              "#f0f921"
             ]
            ],
            "type": "heatmapgl"
           }
          ],
          "histogram": [
           {
            "marker": {
             "pattern": {
              "fillmode": "overlay",
              "size": 10,
              "solidity": 0.2
             }
            },
            "type": "histogram"
           }
          ],
          "histogram2d": [
           {
            "colorbar": {
             "outlinewidth": 0,
             "ticks": ""
            },
            "colorscale": [
             [
              0,
              "#0d0887"
             ],
             [
              0.1111111111111111,
              "#46039f"
             ],
             [
              0.2222222222222222,
              "#7201a8"
             ],
             [
              0.3333333333333333,
              "#9c179e"
             ],
             [
              0.4444444444444444,
              "#bd3786"
             ],
             [
              0.5555555555555556,
              "#d8576b"
             ],
             [
              0.6666666666666666,
              "#ed7953"
             ],
             [
              0.7777777777777778,
              "#fb9f3a"
             ],
             [
              0.8888888888888888,
              "#fdca26"
             ],
             [
              1,
              "#f0f921"
             ]
            ],
            "type": "histogram2d"
           }
          ],
          "histogram2dcontour": [
           {
            "colorbar": {
             "outlinewidth": 0,
             "ticks": ""
            },
            "colorscale": [
             [
              0,
              "#0d0887"
             ],
             [
              0.1111111111111111,
              "#46039f"
             ],
             [
              0.2222222222222222,
              "#7201a8"
             ],
             [
              0.3333333333333333,
              "#9c179e"
             ],
             [
              0.4444444444444444,
              "#bd3786"
             ],
             [
              0.5555555555555556,
              "#d8576b"
             ],
             [
              0.6666666666666666,
              "#ed7953"
             ],
             [
              0.7777777777777778,
              "#fb9f3a"
             ],
             [
              0.8888888888888888,
              "#fdca26"
             ],
             [
              1,
              "#f0f921"
             ]
            ],
            "type": "histogram2dcontour"
           }
          ],
          "mesh3d": [
           {
            "colorbar": {
             "outlinewidth": 0,
             "ticks": ""
            },
            "type": "mesh3d"
           }
          ],
          "parcoords": [
           {
            "line": {
             "colorbar": {
              "outlinewidth": 0,
              "ticks": ""
             }
            },
            "type": "parcoords"
           }
          ],
          "pie": [
           {
            "automargin": true,
            "type": "pie"
           }
          ],
          "scatter": [
           {
            "fillpattern": {
             "fillmode": "overlay",
             "size": 10,
             "solidity": 0.2
            },
            "type": "scatter"
           }
          ],
          "scatter3d": [
           {
            "line": {
             "colorbar": {
              "outlinewidth": 0,
              "ticks": ""
             }
            },
            "marker": {
             "colorbar": {
              "outlinewidth": 0,
              "ticks": ""
             }
            },
            "type": "scatter3d"
           }
          ],
          "scattercarpet": [
           {
            "marker": {
             "colorbar": {
              "outlinewidth": 0,
              "ticks": ""
             }
            },
            "type": "scattercarpet"
           }
          ],
          "scattergeo": [
           {
            "marker": {
             "colorbar": {
              "outlinewidth": 0,
              "ticks": ""
             }
            },
            "type": "scattergeo"
           }
          ],
          "scattergl": [
           {
            "marker": {
             "colorbar": {
              "outlinewidth": 0,
              "ticks": ""
             }
            },
            "type": "scattergl"
           }
          ],
          "scattermapbox": [
           {
            "marker": {
             "colorbar": {
              "outlinewidth": 0,
              "ticks": ""
             }
            },
            "type": "scattermapbox"
           }
          ],
          "scatterpolar": [
           {
            "marker": {
             "colorbar": {
              "outlinewidth": 0,
              "ticks": ""
             }
            },
            "type": "scatterpolar"
           }
          ],
          "scatterpolargl": [
           {
            "marker": {
             "colorbar": {
              "outlinewidth": 0,
              "ticks": ""
             }
            },
            "type": "scatterpolargl"
           }
          ],
          "scatterternary": [
           {
            "marker": {
             "colorbar": {
              "outlinewidth": 0,
              "ticks": ""
             }
            },
            "type": "scatterternary"
           }
          ],
          "surface": [
           {
            "colorbar": {
             "outlinewidth": 0,
             "ticks": ""
            },
            "colorscale": [
             [
              0,
              "#0d0887"
             ],
             [
              0.1111111111111111,
              "#46039f"
             ],
             [
              0.2222222222222222,
              "#7201a8"
             ],
             [
              0.3333333333333333,
              "#9c179e"
             ],
             [
              0.4444444444444444,
              "#bd3786"
             ],
             [
              0.5555555555555556,
              "#d8576b"
             ],
             [
              0.6666666666666666,
              "#ed7953"
             ],
             [
              0.7777777777777778,
              "#fb9f3a"
             ],
             [
              0.8888888888888888,
              "#fdca26"
             ],
             [
              1,
              "#f0f921"
             ]
            ],
            "type": "surface"
           }
          ],
          "table": [
           {
            "cells": {
             "fill": {
              "color": "#EBF0F8"
             },
             "line": {
              "color": "white"
             }
            },
            "header": {
             "fill": {
              "color": "#C8D4E3"
             },
             "line": {
              "color": "white"
             }
            },
            "type": "table"
           }
          ]
         },
         "layout": {
          "annotationdefaults": {
           "arrowcolor": "#2a3f5f",
           "arrowhead": 0,
           "arrowwidth": 1
          },
          "autotypenumbers": "strict",
          "coloraxis": {
           "colorbar": {
            "outlinewidth": 0,
            "ticks": ""
           }
          },
          "colorscale": {
           "diverging": [
            [
             0,
             "#8e0152"
            ],
            [
             0.1,
             "#c51b7d"
            ],
            [
             0.2,
             "#de77ae"
            ],
            [
             0.3,
             "#f1b6da"
            ],
            [
             0.4,
             "#fde0ef"
            ],
            [
             0.5,
             "#f7f7f7"
            ],
            [
             0.6,
             "#e6f5d0"
            ],
            [
             0.7,
             "#b8e186"
            ],
            [
             0.8,
             "#7fbc41"
            ],
            [
             0.9,
             "#4d9221"
            ],
            [
             1,
             "#276419"
            ]
           ],
           "sequential": [
            [
             0,
             "#0d0887"
            ],
            [
             0.1111111111111111,
             "#46039f"
            ],
            [
             0.2222222222222222,
             "#7201a8"
            ],
            [
             0.3333333333333333,
             "#9c179e"
            ],
            [
             0.4444444444444444,
             "#bd3786"
            ],
            [
             0.5555555555555556,
             "#d8576b"
            ],
            [
             0.6666666666666666,
             "#ed7953"
            ],
            [
             0.7777777777777778,
             "#fb9f3a"
            ],
            [
             0.8888888888888888,
             "#fdca26"
            ],
            [
             1,
             "#f0f921"
            ]
           ],
           "sequentialminus": [
            [
             0,
             "#0d0887"
            ],
            [
             0.1111111111111111,
             "#46039f"
            ],
            [
             0.2222222222222222,
             "#7201a8"
            ],
            [
             0.3333333333333333,
             "#9c179e"
            ],
            [
             0.4444444444444444,
             "#bd3786"
            ],
            [
             0.5555555555555556,
             "#d8576b"
            ],
            [
             0.6666666666666666,
             "#ed7953"
            ],
            [
             0.7777777777777778,
             "#fb9f3a"
            ],
            [
             0.8888888888888888,
             "#fdca26"
            ],
            [
             1,
             "#f0f921"
            ]
           ]
          },
          "colorway": [
           "#636efa",
           "#EF553B",
           "#00cc96",
           "#ab63fa",
           "#FFA15A",
           "#19d3f3",
           "#FF6692",
           "#B6E880",
           "#FF97FF",
           "#FECB52"
          ],
          "font": {
           "color": "#2a3f5f"
          },
          "geo": {
           "bgcolor": "white",
           "lakecolor": "white",
           "landcolor": "#E5ECF6",
           "showlakes": true,
           "showland": true,
           "subunitcolor": "white"
          },
          "hoverlabel": {
           "align": "left"
          },
          "hovermode": "closest",
          "mapbox": {
           "style": "light"
          },
          "paper_bgcolor": "white",
          "plot_bgcolor": "#E5ECF6",
          "polar": {
           "angularaxis": {
            "gridcolor": "white",
            "linecolor": "white",
            "ticks": ""
           },
           "bgcolor": "#E5ECF6",
           "radialaxis": {
            "gridcolor": "white",
            "linecolor": "white",
            "ticks": ""
           }
          },
          "scene": {
           "xaxis": {
            "backgroundcolor": "#E5ECF6",
            "gridcolor": "white",
            "gridwidth": 2,
            "linecolor": "white",
            "showbackground": true,
            "ticks": "",
            "zerolinecolor": "white"
           },
           "yaxis": {
            "backgroundcolor": "#E5ECF6",
            "gridcolor": "white",
            "gridwidth": 2,
            "linecolor": "white",
            "showbackground": true,
            "ticks": "",
            "zerolinecolor": "white"
           },
           "zaxis": {
            "backgroundcolor": "#E5ECF6",
            "gridcolor": "white",
            "gridwidth": 2,
            "linecolor": "white",
            "showbackground": true,
            "ticks": "",
            "zerolinecolor": "white"
           }
          },
          "shapedefaults": {
           "line": {
            "color": "#2a3f5f"
           }
          },
          "ternary": {
           "aaxis": {
            "gridcolor": "white",
            "linecolor": "white",
            "ticks": ""
           },
           "baxis": {
            "gridcolor": "white",
            "linecolor": "white",
            "ticks": ""
           },
           "bgcolor": "#E5ECF6",
           "caxis": {
            "gridcolor": "white",
            "linecolor": "white",
            "ticks": ""
           }
          },
          "title": {
           "x": 0.05
          },
          "xaxis": {
           "automargin": true,
           "gridcolor": "white",
           "linecolor": "white",
           "ticks": "",
           "title": {
            "standoff": 15
           },
           "zerolinecolor": "white",
           "zerolinewidth": 2
          },
          "yaxis": {
           "automargin": true,
           "gridcolor": "white",
           "linecolor": "white",
           "ticks": "",
           "title": {
            "standoff": 15
           },
           "zerolinecolor": "white",
           "zerolinewidth": 2
          }
         }
        },
        "title": {
         "text": "Where do these companies come from? (mining sector)"
        },
        "width": 600,
        "xaxis": {
         "anchor": "y",
         "categoryarray": [
          "canada",
          "australia",
          "brazil",
          "uk",
          "china",
          "usa",
          "peru",
          "france",
          "venezuela",
          "norway",
          "suriname",
          "british_virgin_islands",
          "ecuador",
          "bolivia",
          "french_guiana",
          "guyana",
          "chile",
          "russia",
          "cayman_islands"
         ],
         "categoryorder": "array",
         "domain": [
          0,
          1
         ],
         "title": {
          "text": "Country of company HQ"
         }
        },
        "yaxis": {
         "anchor": "x",
         "domain": [
          0,
          1
         ],
         "title": {
          "text": "Project count"
         }
        }
       }
      }
     },
     "metadata": {},
     "output_type": "display_data"
    },
    {
     "data": {
      "application/vnd.plotly.v1+json": {
       "config": {
        "plotlyServerURL": "https://plot.ly"
       },
       "data": [
        {
         "alignmentgroup": "True",
         "hovertemplate": "country_of_company_hq=%{x}<br>project_count=%{y}<extra></extra>",
         "legendgroup": "bolivia",
         "marker": {
          "color": "#636efa",
          "line": {
           "width": 0.01
          },
          "pattern": {
           "shape": ""
          }
         },
         "name": "bolivia",
         "offsetgroup": "bolivia",
         "orientation": "v",
         "showlegend": true,
         "textposition": "auto",
         "type": "bar",
         "x": [
          "bolivia"
         ],
         "xaxis": "x",
         "y": [
          50
         ],
         "yaxis": "y"
        },
        {
         "alignmentgroup": "True",
         "hovertemplate": "country_of_company_hq=%{x}<br>project_count=%{y}<extra></extra>",
         "legendgroup": "canada",
         "marker": {
          "color": "#EF553B",
          "line": {
           "width": 0.01
          },
          "pattern": {
           "shape": ""
          }
         },
         "name": "canada",
         "offsetgroup": "canada",
         "orientation": "v",
         "showlegend": true,
         "textposition": "auto",
         "type": "bar",
         "x": [
          "canada"
         ],
         "xaxis": "x",
         "y": [
          38
         ],
         "yaxis": "y"
        },
        {
         "alignmentgroup": "True",
         "hovertemplate": "country_of_company_hq=%{x}<br>project_count=%{y}<extra></extra>",
         "legendgroup": "spain",
         "marker": {
          "color": "#00cc96",
          "line": {
           "width": 0.01
          },
          "pattern": {
           "shape": ""
          }
         },
         "name": "spain",
         "offsetgroup": "spain",
         "orientation": "v",
         "showlegend": true,
         "textposition": "auto",
         "type": "bar",
         "x": [
          "spain"
         ],
         "xaxis": "x",
         "y": [
          35
         ],
         "yaxis": "y"
        },
        {
         "alignmentgroup": "True",
         "hovertemplate": "country_of_company_hq=%{x}<br>project_count=%{y}<extra></extra>",
         "legendgroup": "ecuador",
         "marker": {
          "color": "#ab63fa",
          "line": {
           "width": 0.01
          },
          "pattern": {
           "shape": ""
          }
         },
         "name": "ecuador",
         "offsetgroup": "ecuador",
         "orientation": "v",
         "showlegend": true,
         "textposition": "auto",
         "type": "bar",
         "x": [
          "ecuador"
         ],
         "xaxis": "x",
         "y": [
          30
         ],
         "yaxis": "y"
        },
        {
         "alignmentgroup": "True",
         "hovertemplate": "country_of_company_hq=%{x}<br>project_count=%{y}<extra></extra>",
         "legendgroup": "colombia",
         "marker": {
          "color": "#FFA15A",
          "line": {
           "width": 0.01
          },
          "pattern": {
           "shape": ""
          }
         },
         "name": "colombia",
         "offsetgroup": "colombia",
         "orientation": "v",
         "showlegend": true,
         "textposition": "auto",
         "type": "bar",
         "x": [
          "colombia"
         ],
         "xaxis": "x",
         "y": [
          23
         ],
         "yaxis": "y"
        },
        {
         "alignmentgroup": "True",
         "hovertemplate": "country_of_company_hq=%{x}<br>project_count=%{y}<extra></extra>",
         "legendgroup": "chile",
         "marker": {
          "color": "#19d3f3",
          "line": {
           "width": 0.01
          },
          "pattern": {
           "shape": ""
          }
         },
         "name": "chile",
         "offsetgroup": "chile",
         "orientation": "v",
         "showlegend": true,
         "textposition": "auto",
         "type": "bar",
         "x": [
          "chile"
         ],
         "xaxis": "x",
         "y": [
          21
         ],
         "yaxis": "y"
        },
        {
         "alignmentgroup": "True",
         "hovertemplate": "country_of_company_hq=%{x}<br>project_count=%{y}<extra></extra>",
         "legendgroup": "brazil",
         "marker": {
          "color": "#FF6692",
          "line": {
           "width": 0.01
          },
          "pattern": {
           "shape": ""
          }
         },
         "name": "brazil",
         "offsetgroup": "brazil",
         "orientation": "v",
         "showlegend": true,
         "textposition": "auto",
         "type": "bar",
         "x": [
          "brazil"
         ],
         "xaxis": "x",
         "y": [
          17
         ],
         "yaxis": "y"
        },
        {
         "alignmentgroup": "True",
         "hovertemplate": "country_of_company_hq=%{x}<br>project_count=%{y}<extra></extra>",
         "legendgroup": "argentina",
         "marker": {
          "color": "#B6E880",
          "line": {
           "width": 0.01
          },
          "pattern": {
           "shape": ""
          }
         },
         "name": "argentina",
         "offsetgroup": "argentina",
         "orientation": "v",
         "showlegend": true,
         "textposition": "auto",
         "type": "bar",
         "x": [
          "argentina"
         ],
         "xaxis": "x",
         "y": [
          16
         ],
         "yaxis": "y"
        },
        {
         "alignmentgroup": "True",
         "hovertemplate": "country_of_company_hq=%{x}<br>project_count=%{y}<extra></extra>",
         "legendgroup": "china",
         "marker": {
          "color": "#FF97FF",
          "line": {
           "width": 0.01
          },
          "pattern": {
           "shape": ""
          }
         },
         "name": "china",
         "offsetgroup": "china",
         "orientation": "v",
         "showlegend": true,
         "textposition": "auto",
         "type": "bar",
         "x": [
          "china"
         ],
         "xaxis": "x",
         "y": [
          15
         ],
         "yaxis": "y"
        },
        {
         "alignmentgroup": "True",
         "hovertemplate": "country_of_company_hq=%{x}<br>project_count=%{y}<extra></extra>",
         "legendgroup": "russia",
         "marker": {
          "color": "#FECB52",
          "line": {
           "width": 0.01
          },
          "pattern": {
           "shape": ""
          }
         },
         "name": "russia",
         "offsetgroup": "russia",
         "orientation": "v",
         "showlegend": true,
         "textposition": "auto",
         "type": "bar",
         "x": [
          "russia"
         ],
         "xaxis": "x",
         "y": [
          14
         ],
         "yaxis": "y"
        },
        {
         "alignmentgroup": "True",
         "hovertemplate": "country_of_company_hq=%{x}<br>project_count=%{y}<extra></extra>",
         "legendgroup": "usa",
         "marker": {
          "color": "#636efa",
          "line": {
           "width": 0.01
          },
          "pattern": {
           "shape": ""
          }
         },
         "name": "usa",
         "offsetgroup": "usa",
         "orientation": "v",
         "showlegend": true,
         "textposition": "auto",
         "type": "bar",
         "x": [
          "usa"
         ],
         "xaxis": "x",
         "y": [
          9
         ],
         "yaxis": "y"
        },
        {
         "alignmentgroup": "True",
         "hovertemplate": "country_of_company_hq=%{x}<br>project_count=%{y}<extra></extra>",
         "legendgroup": "venezuela",
         "marker": {
          "color": "#EF553B",
          "line": {
           "width": 0.01
          },
          "pattern": {
           "shape": ""
          }
         },
         "name": "venezuela",
         "offsetgroup": "venezuela",
         "orientation": "v",
         "showlegend": true,
         "textposition": "auto",
         "type": "bar",
         "x": [
          "venezuela"
         ],
         "xaxis": "x",
         "y": [
          5
         ],
         "yaxis": "y"
        },
        {
         "alignmentgroup": "True",
         "hovertemplate": "country_of_company_hq=%{x}<br>project_count=%{y}<extra></extra>",
         "legendgroup": "uk",
         "marker": {
          "color": "#00cc96",
          "line": {
           "width": 0.01
          },
          "pattern": {
           "shape": ""
          }
         },
         "name": "uk",
         "offsetgroup": "uk",
         "orientation": "v",
         "showlegend": true,
         "textposition": "auto",
         "type": "bar",
         "x": [
          "uk"
         ],
         "xaxis": "x",
         "y": [
          4
         ],
         "yaxis": "y"
        },
        {
         "alignmentgroup": "True",
         "hovertemplate": "country_of_company_hq=%{x}<br>project_count=%{y}<extra></extra>",
         "legendgroup": "peru",
         "marker": {
          "color": "#ab63fa",
          "line": {
           "width": 0.01
          },
          "pattern": {
           "shape": ""
          }
         },
         "name": "peru",
         "offsetgroup": "peru",
         "orientation": "v",
         "showlegend": true,
         "textposition": "auto",
         "type": "bar",
         "x": [
          "peru"
         ],
         "xaxis": "x",
         "y": [
          4
         ],
         "yaxis": "y"
        },
        {
         "alignmentgroup": "True",
         "hovertemplate": "country_of_company_hq=%{x}<br>project_count=%{y}<extra></extra>",
         "legendgroup": "south_korea",
         "marker": {
          "color": "#FFA15A",
          "line": {
           "width": 0.01
          },
          "pattern": {
           "shape": ""
          }
         },
         "name": "south_korea",
         "offsetgroup": "south_korea",
         "orientation": "v",
         "showlegend": true,
         "textposition": "auto",
         "type": "bar",
         "x": [
          "south_korea"
         ],
         "xaxis": "x",
         "y": [
          4
         ],
         "yaxis": "y"
        },
        {
         "alignmentgroup": "True",
         "hovertemplate": "country_of_company_hq=%{x}<br>project_count=%{y}<extra></extra>",
         "legendgroup": "suriname",
         "marker": {
          "color": "#19d3f3",
          "line": {
           "width": 0.01
          },
          "pattern": {
           "shape": ""
          }
         },
         "name": "suriname",
         "offsetgroup": "suriname",
         "orientation": "v",
         "showlegend": true,
         "textposition": "auto",
         "type": "bar",
         "x": [
          "suriname"
         ],
         "xaxis": "x",
         "y": [
          3
         ],
         "yaxis": "y"
        },
        {
         "alignmentgroup": "True",
         "hovertemplate": "country_of_company_hq=%{x}<br>project_count=%{y}<extra></extra>",
         "legendgroup": "singapore",
         "marker": {
          "color": "#FF6692",
          "line": {
           "width": 0.01
          },
          "pattern": {
           "shape": ""
          }
         },
         "name": "singapore",
         "offsetgroup": "singapore",
         "orientation": "v",
         "showlegend": true,
         "textposition": "auto",
         "type": "bar",
         "x": [
          "singapore"
         ],
         "xaxis": "x",
         "y": [
          3
         ],
         "yaxis": "y"
        },
        {
         "alignmentgroup": "True",
         "hovertemplate": "country_of_company_hq=%{x}<br>project_count=%{y}<extra></extra>",
         "legendgroup": "algeria",
         "marker": {
          "color": "#B6E880",
          "line": {
           "width": 0.01
          },
          "pattern": {
           "shape": ""
          }
         },
         "name": "algeria",
         "offsetgroup": "algeria",
         "orientation": "v",
         "showlegend": true,
         "textposition": "auto",
         "type": "bar",
         "x": [
          "algeria"
         ],
         "xaxis": "x",
         "y": [
          2
         ],
         "yaxis": "y"
        },
        {
         "alignmentgroup": "True",
         "hovertemplate": "country_of_company_hq=%{x}<br>project_count=%{y}<extra></extra>",
         "legendgroup": "taiwan",
         "marker": {
          "color": "#FF97FF",
          "line": {
           "width": 0.01
          },
          "pattern": {
           "shape": ""
          }
         },
         "name": "taiwan",
         "offsetgroup": "taiwan",
         "orientation": "v",
         "showlegend": true,
         "textposition": "auto",
         "type": "bar",
         "x": [
          "taiwan"
         ],
         "xaxis": "x",
         "y": [
          2
         ],
         "yaxis": "y"
        },
        {
         "alignmentgroup": "True",
         "hovertemplate": "country_of_company_hq=%{x}<br>project_count=%{y}<extra></extra>",
         "legendgroup": "trinidad_and_tobago",
         "marker": {
          "color": "#FECB52",
          "line": {
           "width": 0.01
          },
          "pattern": {
           "shape": ""
          }
         },
         "name": "trinidad_and_tobago",
         "offsetgroup": "trinidad_and_tobago",
         "orientation": "v",
         "showlegend": true,
         "textposition": "auto",
         "type": "bar",
         "x": [
          "trinidad_and_tobago"
         ],
         "xaxis": "x",
         "y": [
          1
         ],
         "yaxis": "y"
        },
        {
         "alignmentgroup": "True",
         "hovertemplate": "country_of_company_hq=%{x}<br>project_count=%{y}<extra></extra>",
         "legendgroup": "portugal",
         "marker": {
          "color": "#636efa",
          "line": {
           "width": 0.01
          },
          "pattern": {
           "shape": ""
          }
         },
         "name": "portugal",
         "offsetgroup": "portugal",
         "orientation": "v",
         "showlegend": true,
         "textposition": "auto",
         "type": "bar",
         "x": [
          "portugal"
         ],
         "xaxis": "x",
         "y": [
          1
         ],
         "yaxis": "y"
        },
        {
         "alignmentgroup": "True",
         "hovertemplate": "country_of_company_hq=%{x}<br>project_count=%{y}<extra></extra>",
         "legendgroup": "the_netherlands",
         "marker": {
          "color": "#EF553B",
          "line": {
           "width": 0.01
          },
          "pattern": {
           "shape": ""
          }
         },
         "name": "the_netherlands",
         "offsetgroup": "the_netherlands",
         "orientation": "v",
         "showlegend": true,
         "textposition": "auto",
         "type": "bar",
         "x": [
          "the_netherlands"
         ],
         "xaxis": "x",
         "y": [
          1
         ],
         "yaxis": "y"
        },
        {
         "alignmentgroup": "True",
         "hovertemplate": "country_of_company_hq=%{x}<br>project_count=%{y}<extra></extra>",
         "legendgroup": "italy",
         "marker": {
          "color": "#00cc96",
          "line": {
           "width": 0.01
          },
          "pattern": {
           "shape": ""
          }
         },
         "name": "italy",
         "offsetgroup": "italy",
         "orientation": "v",
         "showlegend": true,
         "textposition": "auto",
         "type": "bar",
         "x": [
          "italy"
         ],
         "xaxis": "x",
         "y": [
          1
         ],
         "yaxis": "y"
        },
        {
         "alignmentgroup": "True",
         "hovertemplate": "country_of_company_hq=%{x}<br>project_count=%{y}<extra></extra>",
         "legendgroup": "india",
         "marker": {
          "color": "#ab63fa",
          "line": {
           "width": 0.01
          },
          "pattern": {
           "shape": ""
          }
         },
         "name": "india",
         "offsetgroup": "india",
         "orientation": "v",
         "showlegend": true,
         "textposition": "auto",
         "type": "bar",
         "x": [
          "india"
         ],
         "xaxis": "x",
         "y": [
          1
         ],
         "yaxis": "y"
        },
        {
         "alignmentgroup": "True",
         "hovertemplate": "country_of_company_hq=%{x}<br>project_count=%{y}<extra></extra>",
         "legendgroup": "belarus",
         "marker": {
          "color": "#FFA15A",
          "line": {
           "width": 0.01
          },
          "pattern": {
           "shape": ""
          }
         },
         "name": "belarus",
         "offsetgroup": "belarus",
         "orientation": "v",
         "showlegend": true,
         "textposition": "auto",
         "type": "bar",
         "x": [
          "belarus"
         ],
         "xaxis": "x",
         "y": [
          1
         ],
         "yaxis": "y"
        },
        {
         "alignmentgroup": "True",
         "hovertemplate": "country_of_company_hq=%{x}<br>project_count=%{y}<extra></extra>",
         "legendgroup": "vietnam",
         "marker": {
          "color": "#19d3f3",
          "line": {
           "width": 0.01
          },
          "pattern": {
           "shape": ""
          }
         },
         "name": "vietnam",
         "offsetgroup": "vietnam",
         "orientation": "v",
         "showlegend": true,
         "textposition": "auto",
         "type": "bar",
         "x": [
          "vietnam"
         ],
         "xaxis": "x",
         "y": [
          1
         ],
         "yaxis": "y"
        }
       ],
       "layout": {
        "bargap": 0.2,
        "barmode": "relative",
        "height": 400,
        "legend": {
         "title": {
          "text": "country_of_company_hq"
         },
         "tracegroupgap": 0
        },
        "margin": {
         "t": 60
        },
        "paper_bgcolor": "#FFFFFF",
        "showlegend": false,
        "template": {
         "data": {
          "bar": [
           {
            "error_x": {
             "color": "#2a3f5f"
            },
            "error_y": {
             "color": "#2a3f5f"
            },
            "marker": {
             "line": {
              "color": "#E5ECF6",
              "width": 0.5
             },
             "pattern": {
              "fillmode": "overlay",
              "size": 10,
              "solidity": 0.2
             }
            },
            "type": "bar"
           }
          ],
          "barpolar": [
           {
            "marker": {
             "line": {
              "color": "#E5ECF6",
              "width": 0.5
             },
             "pattern": {
              "fillmode": "overlay",
              "size": 10,
              "solidity": 0.2
             }
            },
            "type": "barpolar"
           }
          ],
          "carpet": [
           {
            "aaxis": {
             "endlinecolor": "#2a3f5f",
             "gridcolor": "white",
             "linecolor": "white",
             "minorgridcolor": "white",
             "startlinecolor": "#2a3f5f"
            },
            "baxis": {
             "endlinecolor": "#2a3f5f",
             "gridcolor": "white",
             "linecolor": "white",
             "minorgridcolor": "white",
             "startlinecolor": "#2a3f5f"
            },
            "type": "carpet"
           }
          ],
          "choropleth": [
           {
            "colorbar": {
             "outlinewidth": 0,
             "ticks": ""
            },
            "type": "choropleth"
           }
          ],
          "contour": [
           {
            "colorbar": {
             "outlinewidth": 0,
             "ticks": ""
            },
            "colorscale": [
             [
              0,
              "#0d0887"
             ],
             [
              0.1111111111111111,
              "#46039f"
             ],
             [
              0.2222222222222222,
              "#7201a8"
             ],
             [
              0.3333333333333333,
              "#9c179e"
             ],
             [
              0.4444444444444444,
              "#bd3786"
             ],
             [
              0.5555555555555556,
              "#d8576b"
             ],
             [
              0.6666666666666666,
              "#ed7953"
             ],
             [
              0.7777777777777778,
              "#fb9f3a"
             ],
             [
              0.8888888888888888,
              "#fdca26"
             ],
             [
              1,
              "#f0f921"
             ]
            ],
            "type": "contour"
           }
          ],
          "contourcarpet": [
           {
            "colorbar": {
             "outlinewidth": 0,
             "ticks": ""
            },
            "type": "contourcarpet"
           }
          ],
          "heatmap": [
           {
            "colorbar": {
             "outlinewidth": 0,
             "ticks": ""
            },
            "colorscale": [
             [
              0,
              "#0d0887"
             ],
             [
              0.1111111111111111,
              "#46039f"
             ],
             [
              0.2222222222222222,
              "#7201a8"
             ],
             [
              0.3333333333333333,
              "#9c179e"
             ],
             [
              0.4444444444444444,
              "#bd3786"
             ],
             [
              0.5555555555555556,
              "#d8576b"
             ],
             [
              0.6666666666666666,
              "#ed7953"
             ],
             [
              0.7777777777777778,
              "#fb9f3a"
             ],
             [
              0.8888888888888888,
              "#fdca26"
             ],
             [
              1,
              "#f0f921"
             ]
            ],
            "type": "heatmap"
           }
          ],
          "heatmapgl": [
           {
            "colorbar": {
             "outlinewidth": 0,
             "ticks": ""
            },
            "colorscale": [
             [
              0,
              "#0d0887"
             ],
             [
              0.1111111111111111,
              "#46039f"
             ],
             [
              0.2222222222222222,
              "#7201a8"
             ],
             [
              0.3333333333333333,
              "#9c179e"
             ],
             [
              0.4444444444444444,
              "#bd3786"
             ],
             [
              0.5555555555555556,
              "#d8576b"
             ],
             [
              0.6666666666666666,
              "#ed7953"
             ],
             [
              0.7777777777777778,
              "#fb9f3a"
             ],
             [
              0.8888888888888888,
              "#fdca26"
             ],
             [
              1,
              "#f0f921"
             ]
            ],
            "type": "heatmapgl"
           }
          ],
          "histogram": [
           {
            "marker": {
             "pattern": {
              "fillmode": "overlay",
              "size": 10,
              "solidity": 0.2
             }
            },
            "type": "histogram"
           }
          ],
          "histogram2d": [
           {
            "colorbar": {
             "outlinewidth": 0,
             "ticks": ""
            },
            "colorscale": [
             [
              0,
              "#0d0887"
             ],
             [
              0.1111111111111111,
              "#46039f"
             ],
             [
              0.2222222222222222,
              "#7201a8"
             ],
             [
              0.3333333333333333,
              "#9c179e"
             ],
             [
              0.4444444444444444,
              "#bd3786"
             ],
             [
              0.5555555555555556,
              "#d8576b"
             ],
             [
              0.6666666666666666,
              "#ed7953"
             ],
             [
              0.7777777777777778,
              "#fb9f3a"
             ],
             [
              0.8888888888888888,
              "#fdca26"
             ],
             [
              1,
              "#f0f921"
             ]
            ],
            "type": "histogram2d"
           }
          ],
          "histogram2dcontour": [
           {
            "colorbar": {
             "outlinewidth": 0,
             "ticks": ""
            },
            "colorscale": [
             [
              0,
              "#0d0887"
             ],
             [
              0.1111111111111111,
              "#46039f"
             ],
             [
              0.2222222222222222,
              "#7201a8"
             ],
             [
              0.3333333333333333,
              "#9c179e"
             ],
             [
              0.4444444444444444,
              "#bd3786"
             ],
             [
              0.5555555555555556,
              "#d8576b"
             ],
             [
              0.6666666666666666,
              "#ed7953"
             ],
             [
              0.7777777777777778,
              "#fb9f3a"
             ],
             [
              0.8888888888888888,
              "#fdca26"
             ],
             [
              1,
              "#f0f921"
             ]
            ],
            "type": "histogram2dcontour"
           }
          ],
          "mesh3d": [
           {
            "colorbar": {
             "outlinewidth": 0,
             "ticks": ""
            },
            "type": "mesh3d"
           }
          ],
          "parcoords": [
           {
            "line": {
             "colorbar": {
              "outlinewidth": 0,
              "ticks": ""
             }
            },
            "type": "parcoords"
           }
          ],
          "pie": [
           {
            "automargin": true,
            "type": "pie"
           }
          ],
          "scatter": [
           {
            "fillpattern": {
             "fillmode": "overlay",
             "size": 10,
             "solidity": 0.2
            },
            "type": "scatter"
           }
          ],
          "scatter3d": [
           {
            "line": {
             "colorbar": {
              "outlinewidth": 0,
              "ticks": ""
             }
            },
            "marker": {
             "colorbar": {
              "outlinewidth": 0,
              "ticks": ""
             }
            },
            "type": "scatter3d"
           }
          ],
          "scattercarpet": [
           {
            "marker": {
             "colorbar": {
              "outlinewidth": 0,
              "ticks": ""
             }
            },
            "type": "scattercarpet"
           }
          ],
          "scattergeo": [
           {
            "marker": {
             "colorbar": {
              "outlinewidth": 0,
              "ticks": ""
             }
            },
            "type": "scattergeo"
           }
          ],
          "scattergl": [
           {
            "marker": {
             "colorbar": {
              "outlinewidth": 0,
              "ticks": ""
             }
            },
            "type": "scattergl"
           }
          ],
          "scattermapbox": [
           {
            "marker": {
             "colorbar": {
              "outlinewidth": 0,
              "ticks": ""
             }
            },
            "type": "scattermapbox"
           }
          ],
          "scatterpolar": [
           {
            "marker": {
             "colorbar": {
              "outlinewidth": 0,
              "ticks": ""
             }
            },
            "type": "scatterpolar"
           }
          ],
          "scatterpolargl": [
           {
            "marker": {
             "colorbar": {
              "outlinewidth": 0,
              "ticks": ""
             }
            },
            "type": "scatterpolargl"
           }
          ],
          "scatterternary": [
           {
            "marker": {
             "colorbar": {
              "outlinewidth": 0,
              "ticks": ""
             }
            },
            "type": "scatterternary"
           }
          ],
          "surface": [
           {
            "colorbar": {
             "outlinewidth": 0,
             "ticks": ""
            },
            "colorscale": [
             [
              0,
              "#0d0887"
             ],
             [
              0.1111111111111111,
              "#46039f"
             ],
             [
              0.2222222222222222,
              "#7201a8"
             ],
             [
              0.3333333333333333,
              "#9c179e"
             ],
             [
              0.4444444444444444,
              "#bd3786"
             ],
             [
              0.5555555555555556,
              "#d8576b"
             ],
             [
              0.6666666666666666,
              "#ed7953"
             ],
             [
              0.7777777777777778,
              "#fb9f3a"
             ],
             [
              0.8888888888888888,
              "#fdca26"
             ],
             [
              1,
              "#f0f921"
             ]
            ],
            "type": "surface"
           }
          ],
          "table": [
           {
            "cells": {
             "fill": {
              "color": "#EBF0F8"
             },
             "line": {
              "color": "white"
             }
            },
            "header": {
             "fill": {
              "color": "#C8D4E3"
             },
             "line": {
              "color": "white"
             }
            },
            "type": "table"
           }
          ]
         },
         "layout": {
          "annotationdefaults": {
           "arrowcolor": "#2a3f5f",
           "arrowhead": 0,
           "arrowwidth": 1
          },
          "autotypenumbers": "strict",
          "coloraxis": {
           "colorbar": {
            "outlinewidth": 0,
            "ticks": ""
           }
          },
          "colorscale": {
           "diverging": [
            [
             0,
             "#8e0152"
            ],
            [
             0.1,
             "#c51b7d"
            ],
            [
             0.2,
             "#de77ae"
            ],
            [
             0.3,
             "#f1b6da"
            ],
            [
             0.4,
             "#fde0ef"
            ],
            [
             0.5,
             "#f7f7f7"
            ],
            [
             0.6,
             "#e6f5d0"
            ],
            [
             0.7,
             "#b8e186"
            ],
            [
             0.8,
             "#7fbc41"
            ],
            [
             0.9,
             "#4d9221"
            ],
            [
             1,
             "#276419"
            ]
           ],
           "sequential": [
            [
             0,
             "#0d0887"
            ],
            [
             0.1111111111111111,
             "#46039f"
            ],
            [
             0.2222222222222222,
             "#7201a8"
            ],
            [
             0.3333333333333333,
             "#9c179e"
            ],
            [
             0.4444444444444444,
             "#bd3786"
            ],
            [
             0.5555555555555556,
             "#d8576b"
            ],
            [
             0.6666666666666666,
             "#ed7953"
            ],
            [
             0.7777777777777778,
             "#fb9f3a"
            ],
            [
             0.8888888888888888,
             "#fdca26"
            ],
            [
             1,
             "#f0f921"
            ]
           ],
           "sequentialminus": [
            [
             0,
             "#0d0887"
            ],
            [
             0.1111111111111111,
             "#46039f"
            ],
            [
             0.2222222222222222,
             "#7201a8"
            ],
            [
             0.3333333333333333,
             "#9c179e"
            ],
            [
             0.4444444444444444,
             "#bd3786"
            ],
            [
             0.5555555555555556,
             "#d8576b"
            ],
            [
             0.6666666666666666,
             "#ed7953"
            ],
            [
             0.7777777777777778,
             "#fb9f3a"
            ],
            [
             0.8888888888888888,
             "#fdca26"
            ],
            [
             1,
             "#f0f921"
            ]
           ]
          },
          "colorway": [
           "#636efa",
           "#EF553B",
           "#00cc96",
           "#ab63fa",
           "#FFA15A",
           "#19d3f3",
           "#FF6692",
           "#B6E880",
           "#FF97FF",
           "#FECB52"
          ],
          "font": {
           "color": "#2a3f5f"
          },
          "geo": {
           "bgcolor": "white",
           "lakecolor": "white",
           "landcolor": "#E5ECF6",
           "showlakes": true,
           "showland": true,
           "subunitcolor": "white"
          },
          "hoverlabel": {
           "align": "left"
          },
          "hovermode": "closest",
          "mapbox": {
           "style": "light"
          },
          "paper_bgcolor": "white",
          "plot_bgcolor": "#E5ECF6",
          "polar": {
           "angularaxis": {
            "gridcolor": "white",
            "linecolor": "white",
            "ticks": ""
           },
           "bgcolor": "#E5ECF6",
           "radialaxis": {
            "gridcolor": "white",
            "linecolor": "white",
            "ticks": ""
           }
          },
          "scene": {
           "xaxis": {
            "backgroundcolor": "#E5ECF6",
            "gridcolor": "white",
            "gridwidth": 2,
            "linecolor": "white",
            "showbackground": true,
            "ticks": "",
            "zerolinecolor": "white"
           },
           "yaxis": {
            "backgroundcolor": "#E5ECF6",
            "gridcolor": "white",
            "gridwidth": 2,
            "linecolor": "white",
            "showbackground": true,
            "ticks": "",
            "zerolinecolor": "white"
           },
           "zaxis": {
            "backgroundcolor": "#E5ECF6",
            "gridcolor": "white",
            "gridwidth": 2,
            "linecolor": "white",
            "showbackground": true,
            "ticks": "",
            "zerolinecolor": "white"
           }
          },
          "shapedefaults": {
           "line": {
            "color": "#2a3f5f"
           }
          },
          "ternary": {
           "aaxis": {
            "gridcolor": "white",
            "linecolor": "white",
            "ticks": ""
           },
           "baxis": {
            "gridcolor": "white",
            "linecolor": "white",
            "ticks": ""
           },
           "bgcolor": "#E5ECF6",
           "caxis": {
            "gridcolor": "white",
            "linecolor": "white",
            "ticks": ""
           }
          },
          "title": {
           "x": 0.05
          },
          "xaxis": {
           "automargin": true,
           "gridcolor": "white",
           "linecolor": "white",
           "ticks": "",
           "title": {
            "standoff": 15
           },
           "zerolinecolor": "white",
           "zerolinewidth": 2
          },
          "yaxis": {
           "automargin": true,
           "gridcolor": "white",
           "linecolor": "white",
           "ticks": "",
           "title": {
            "standoff": 15
           },
           "zerolinecolor": "white",
           "zerolinewidth": 2
          }
         }
        },
        "title": {
         "text": "Where do these companies come from? (oil_gas sector)"
        },
        "width": 600,
        "xaxis": {
         "anchor": "y",
         "categoryarray": [
          "bolivia",
          "canada",
          "spain",
          "ecuador",
          "colombia",
          "chile",
          "brazil",
          "argentina",
          "china",
          "russia",
          "usa",
          "venezuela",
          "uk",
          "peru",
          "south_korea",
          "suriname",
          "singapore",
          "algeria",
          "taiwan",
          "trinidad_and_tobago",
          "portugal",
          "the_netherlands",
          "italy",
          "india",
          "belarus",
          "vietnam"
         ],
         "categoryorder": "array",
         "domain": [
          0,
          1
         ],
         "title": {
          "text": "Country of company HQ"
         }
        },
        "yaxis": {
         "anchor": "x",
         "domain": [
          0,
          1
         ],
         "title": {
          "text": "Project count"
         }
        }
       }
      }
     },
     "metadata": {},
     "output_type": "display_data"
    }
   ],
   "source": [
    "# Check who owns the most projects in the region by sector\n",
    "country_counts = df.groupby(['country_of_company_hq', 'sector_type']).size().reset_index(name='project_count')\n",
    "sorted_country_counts = country_counts.groupby('sector_type').apply(lambda x: x.sort_values('project_count', ascending=False)).reset_index(drop=True)\n",
    "\n",
    "# Create separate bar plots for each sector type\n",
    "plots = []\n",
    "for sector_type, data in sorted_country_counts.groupby('sector_type'):\n",
    "    fig = px.bar(data, x='country_of_company_hq', y='project_count', color='country_of_company_hq')\n",
    "    fig.update_layout(\n",
    "        title=f'Where do these companies come from? ({sector_type} sector)',\n",
    "        xaxis=dict(title='Country of company HQ'),\n",
    "        yaxis=dict(title='Project count'),\n",
    "        #barmode='group',\n",
    "        paper_bgcolor='#FFFFFF',\n",
    "        showlegend=False,\n",
    "        width=600,\n",
    "        height=400\n",
    "    )\n",
    "\n",
    "    # Adjust the bar width and gap\n",
    "    fig.update_traces(marker=dict(line=dict(width=0.01)))  # Adjust the width as needed\n",
    "    fig.update_layout(bargap=0.2) \n",
    "\n",
    "    plots.append(fig)\n",
    "\n",
    "for fig in plots:\n",
    "    fig.show()"
   ]
  },
  {
   "cell_type": "code",
   "execution_count": 42,
   "metadata": {},
   "outputs": [
    {
     "data": {
      "text/html": [
       "<div>\n",
       "<style scoped>\n",
       "    .dataframe tbody tr th:only-of-type {\n",
       "        vertical-align: middle;\n",
       "    }\n",
       "\n",
       "    .dataframe tbody tr th {\n",
       "        vertical-align: top;\n",
       "    }\n",
       "\n",
       "    .dataframe thead th {\n",
       "        text-align: right;\n",
       "    }\n",
       "</style>\n",
       "<table border=\"1\" class=\"dataframe\">\n",
       "  <thead>\n",
       "    <tr style=\"text-align: right;\">\n",
       "      <th></th>\n",
       "      <th>project_name</th>\n",
       "      <th>sector_type</th>\n",
       "      <th>country</th>\n",
       "      <th>installed_capacity_mw</th>\n",
       "      <th>operational_status</th>\n",
       "      <th>owner</th>\n",
       "      <th>equity_stake_owner</th>\n",
       "      <th>equity_stake_operator</th>\n",
       "      <th>country_of_company_hq</th>\n",
       "      <th>company_type</th>\n",
       "      <th>company_type_for_label</th>\n",
       "      <th>is_operator</th>\n",
       "      <th>lender_type</th>\n",
       "      <th>substances</th>\n",
       "      <th>deal_type</th>\n",
       "      <th>parent_org</th>\n",
       "      <th>pid</th>\n",
       "    </tr>\n",
       "  </thead>\n",
       "  <tbody>\n",
       "    <tr>\n",
       "      <th>0</th>\n",
       "      <td>ambrosia</td>\n",
       "      <td>hydropower</td>\n",
       "      <td>bolivia</td>\n",
       "      <td>84.9</td>\n",
       "      <td>permitting</td>\n",
       "      <td>empresa_electrica_corani</td>\n",
       "      <td>1.0</td>\n",
       "      <td>1.0</td>\n",
       "      <td>bolivia</td>\n",
       "      <td>soe</td>\n",
       "      <td>stateowned_enterprise</td>\n",
       "      <td>yes</td>\n",
       "      <td>multilateral_development_bank</td>\n",
       "      <td>NaN</td>\n",
       "      <td>greenfield</td>\n",
       "      <td>ende</td>\n",
       "      <td>kl0fxe</td>\n",
       "    </tr>\n",
       "    <tr>\n",
       "      <th>1</th>\n",
       "      <td>banda_azul</td>\n",
       "      <td>hydropower</td>\n",
       "      <td>bolivia</td>\n",
       "      <td>146.0</td>\n",
       "      <td>permitting</td>\n",
       "      <td>empresa_electrica_corani</td>\n",
       "      <td>1.0</td>\n",
       "      <td>1.0</td>\n",
       "      <td>bolivia</td>\n",
       "      <td>soe</td>\n",
       "      <td>stateowned_enterprise</td>\n",
       "      <td>yes</td>\n",
       "      <td>foreign_development_bankfund</td>\n",
       "      <td>NaN</td>\n",
       "      <td>greenfield</td>\n",
       "      <td>ende</td>\n",
       "      <td>ffjpph</td>\n",
       "    </tr>\n",
       "    <tr>\n",
       "      <th>2</th>\n",
       "      <td>chojlla</td>\n",
       "      <td>hydropower</td>\n",
       "      <td>bolivia</td>\n",
       "      <td>37.0</td>\n",
       "      <td>in_operation</td>\n",
       "      <td>hidroelectrica_boliviana</td>\n",
       "      <td>1.0</td>\n",
       "      <td>1.0</td>\n",
       "      <td>bolivia</td>\n",
       "      <td>local_power_company</td>\n",
       "      <td>local_power_company</td>\n",
       "      <td>yes</td>\n",
       "      <td>NaN</td>\n",
       "      <td>NaN</td>\n",
       "      <td>greenfield</td>\n",
       "      <td>hidroelectrica_boliviana</td>\n",
       "      <td>1cxvzq</td>\n",
       "    </tr>\n",
       "    <tr>\n",
       "      <th>3</th>\n",
       "      <td>corani</td>\n",
       "      <td>hydropower</td>\n",
       "      <td>bolivia</td>\n",
       "      <td>54.0</td>\n",
       "      <td>in_operation</td>\n",
       "      <td>empresa_electrica_corani</td>\n",
       "      <td>1.0</td>\n",
       "      <td>1.0</td>\n",
       "      <td>bolivia</td>\n",
       "      <td>soe</td>\n",
       "      <td>stateowned_enterprise</td>\n",
       "      <td>yes</td>\n",
       "      <td>multilateral_development_bank</td>\n",
       "      <td>NaN</td>\n",
       "      <td>greenfield</td>\n",
       "      <td>ende</td>\n",
       "      <td>eh6ntx</td>\n",
       "    </tr>\n",
       "    <tr>\n",
       "      <th>4</th>\n",
       "      <td>ivirizu</td>\n",
       "      <td>hydropower</td>\n",
       "      <td>bolivia</td>\n",
       "      <td>279.8</td>\n",
       "      <td>under_construction</td>\n",
       "      <td>ende_valle_hermoso</td>\n",
       "      <td>1.0</td>\n",
       "      <td>0.0</td>\n",
       "      <td>bolivia</td>\n",
       "      <td>soe</td>\n",
       "      <td>stateowned_enterprise</td>\n",
       "      <td>no</td>\n",
       "      <td>NaN</td>\n",
       "      <td>NaN</td>\n",
       "      <td>greenfield</td>\n",
       "      <td>ende</td>\n",
       "      <td>l1dro7</td>\n",
       "    </tr>\n",
       "  </tbody>\n",
       "</table>\n",
       "</div>"
      ],
      "text/plain": [
       "  project_name sector_type  country  installed_capacity_mw  \\\n",
       "0     ambrosia  hydropower  bolivia                   84.9   \n",
       "1   banda_azul  hydropower  bolivia                  146.0   \n",
       "2      chojlla  hydropower  bolivia                   37.0   \n",
       "3       corani  hydropower  bolivia                   54.0   \n",
       "4      ivirizu  hydropower  bolivia                  279.8   \n",
       "\n",
       "   operational_status                     owner  equity_stake_owner  \\\n",
       "0          permitting  empresa_electrica_corani                 1.0   \n",
       "1          permitting  empresa_electrica_corani                 1.0   \n",
       "2        in_operation  hidroelectrica_boliviana                 1.0   \n",
       "3        in_operation  empresa_electrica_corani                 1.0   \n",
       "4  under_construction        ende_valle_hermoso                 1.0   \n",
       "\n",
       "   equity_stake_operator country_of_company_hq         company_type  \\\n",
       "0                    1.0               bolivia                  soe   \n",
       "1                    1.0               bolivia                  soe   \n",
       "2                    1.0               bolivia  local_power_company   \n",
       "3                    1.0               bolivia                  soe   \n",
       "4                    0.0               bolivia                  soe   \n",
       "\n",
       "  company_type_for_label is_operator                    lender_type  \\\n",
       "0  stateowned_enterprise         yes  multilateral_development_bank   \n",
       "1  stateowned_enterprise         yes   foreign_development_bankfund   \n",
       "2    local_power_company         yes                            NaN   \n",
       "3  stateowned_enterprise         yes  multilateral_development_bank   \n",
       "4  stateowned_enterprise          no                            NaN   \n",
       "\n",
       "  substances   deal_type                parent_org     pid  \n",
       "0        NaN  greenfield                      ende  kl0fxe  \n",
       "1        NaN  greenfield                      ende  ffjpph  \n",
       "2        NaN  greenfield  hidroelectrica_boliviana  1cxvzq  \n",
       "3        NaN  greenfield                      ende  eh6ntx  \n",
       "4        NaN  greenfield                      ende  l1dro7  "
      ]
     },
     "execution_count": 42,
     "metadata": {},
     "output_type": "execute_result"
    }
   ],
   "source": [
    "df.head()\n"
   ]
  },
  {
   "cell_type": "markdown",
   "metadata": {},
   "source": [
    "### Other questions to answer:\n",
    "\n",
    "#### General\n",
    "1. What is the distribution of deal types? lender type? company type? operational status?\n",
    "2. How are major owners distributed by country?\n",
    "\n",
    "#### Relationships\n",
    "1. How many of these companies are operating/working on foreign soil? \n",
    "2. How many of these companies come from outside South America?\n",
    "3. Are there any trends between project country and company country?\n",
    "4. Is there a company, host country, or country of company HQ that is dominant over others? Any trends in new projects?\n",
    "5. How many major owners operate in foreign soil?\n",
    "6. Find the correlation between owner type and projects per country -- mosaic plots\n",
    "\n",
    "#### Geospatial\n",
    "1. Where are these projects distributed within each country?\n",
    "2. How are these projects distributed within the Amazon River Basin?"
   ]
  }
 ],
 "metadata": {
  "kernelspec": {
   "display_name": "amazon_energy",
   "language": "python",
   "name": "python3"
  },
  "language_info": {
   "codemirror_mode": {
    "name": "ipython",
    "version": 3
   },
   "file_extension": ".py",
   "mimetype": "text/x-python",
   "name": "python",
   "nbconvert_exporter": "python",
   "pygments_lexer": "ipython3",
   "version": "3.10.8"
  },
  "orig_nbformat": 4
 },
 "nbformat": 4,
 "nbformat_minor": 2
}
